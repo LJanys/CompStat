{
 "cells": [
  {
   "cell_type": "markdown",
   "id": "c937caf8",
   "metadata": {},
   "source": [
    "The $\\(1^{st}\\)$ layer will take in the inputs and the \\(3^{rd}\\) layer will spit out an output.\n",
    "\n",
    "The input layer will have two (input) neurons, the hidden layer four (hidden) neurons, and the output layer one (output) neuron.\n",
    "\n",
    "Our input layer has two neurons because we’ll be passing two features (columns of a dataframe) as the input. A single output neuron because we’re performing binary classification. This means two output classes - 0 and 1. Our output will actually be a probability (a number that lies between 0 and 1). We’ll define a threshold for rounding off this probability to 0 or 1. For instance, this threshold can be 0.5.\n",
    "\n"
   ]
  },
  {
   "cell_type": "code",
   "execution_count": null,
   "id": "ea30566d",
   "metadata": {},
   "outputs": [],
   "source": []
  }
 ],
 "metadata": {
  "kernelspec": {
   "display_name": "R",
   "language": "R",
   "name": "ir"
  },
  "language_info": {
   "codemirror_mode": "r",
   "file_extension": ".r",
   "mimetype": "text/x-r-source",
   "name": "R",
   "pygments_lexer": "r",
   "version": "4.1.1"
  }
 },
 "nbformat": 4,
 "nbformat_minor": 5
}
