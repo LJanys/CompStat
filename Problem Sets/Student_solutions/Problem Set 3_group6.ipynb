{
 "cells": [
  {
   "cell_type": "markdown",
   "id": "b3cdb5fa",
   "metadata": {},
   "source": [
    "# Problem Set 3"
   ]
  },
  {
   "cell_type": "markdown",
   "id": "d7cd301d",
   "metadata": {},
   "source": [
    "## Group 6 "
   ]
  },
  {
   "cell_type": "markdown",
   "id": "6227f1a6",
   "metadata": {},
   "source": [
    "# Exercise 1\n",
    "### a) Generate the covariates from a multivariate normal distribution using the $\\mu_k$ and $\\Sigma$ as described above and an indicator variable indicating class dependece for $n$ observations and combine these in a data frame."
   ]
  },
  {
   "cell_type": "code",
   "execution_count": 1,
   "id": "8e1f0975",
   "metadata": {},
   "outputs": [
    {
     "name": "stderr",
     "output_type": "stream",
     "text": [
      "Warning message:\n",
      "\"package 'ROCR' was built under R version 3.6.3\"Warning message:\n",
      "\"package 'MASS' was built under R version 3.6.3\"Warning message:\n",
      "\"package 'mvtnorm' was built under R version 3.6.3\""
     ]
    }
   ],
   "source": [
    "#install.packages(\"ROCR\")\n",
    "#install.packages(\"MASS\")\n",
    "#install.packages(\"mvtnorm\")\n",
    "\n",
    "set.seed(100)\n",
    "library(ROCR)\n",
    "library(MASS)\n",
    "library(mvtnorm)\n",
    "n_1 = 300 #Sample size of class 1\n",
    "n_2 = 500 #Sample size of class 2\n",
    "mu_1 = c(-3,3) #Mean vector for class 1\n",
    "mu_2 = c(5,5)  #Mean vector for class 2\n",
    "sigma = matrix(c(16,-2,-2,9),ncol=2,nrow=2) #VarCovariance matrix for class 1 and class 2\n",
    "dataset = function(n_1,n_2,mu_1,mu_2,sigma){\n",
    "X_Class1 = mvtnorm::rmvnorm(n_1,mu_1,sigma) #Multivariate normal distribution for class 1\n",
    "X_Class2 = mvtnorm::rmvnorm(n_2,mu_2,sigma) #Multivariate normal distribution for class 1\n",
    "Y = c(rep(0,n_1),rep(1,n_2)) #Indicator Variable where 0 is for 'Class 1' and 1 for 'Class 2'\n",
    "data = data.frame(cbind(rbind(X_Class1,X_Class2),Y))\n",
    "colnames(data)=c(\"X1\",\"X2\",\"Y\")\n",
    "return(data)\n",
    "}\n",
    "dataset.train = dataset(n_1,n_2,mu_1,mu_2,sigma) # Train dataset\n",
    "dataset.test =  dataset(n_1,n_2,mu_1,mu_2,sigma) # Test dataset"
   ]
  },
  {
   "cell_type": "markdown",
   "id": "ca3f7d7f",
   "metadata": {},
   "source": [
    "### b) Calculate the linear discriminant analysis and the logistic regression model, estimating all relevant quantities."
   ]
  },
  {
   "cell_type": "markdown",
   "id": "cf90aee7",
   "metadata": {},
   "source": [
    "#### LDA analysis:"
   ]
  },
  {
   "cell_type": "code",
   "execution_count": 2,
   "id": "990889d7",
   "metadata": {},
   "outputs": [
    {
     "data": {
      "text/plain": [
       "Call:\n",
       "lda(Y ~ ., data = dataset.train)\n",
       "\n",
       "Prior probabilities of groups:\n",
       "    0     1 \n",
       "0.375 0.625 \n",
       "\n",
       "Group means:\n",
       "        X1       X2\n",
       "0 -3.21166 3.102986\n",
       "1  5.15561 4.982143\n",
       "\n",
       "Coefficients of linear discriminants:\n",
       "         LD1\n",
       "X1 0.2485893\n",
       "X2 0.1390715"
      ]
     },
     "metadata": {},
     "output_type": "display_data"
    },
    {
     "data": {
      "image/png": "[encoded data removed]",
      "text/plain": [
       "plot without title"
      ]
     },
     "metadata": {},
     "output_type": "display_data"
    }
   ],
   "source": [
    "lda = lda(Y~.,data=dataset.train) #Train the model\n",
    "lda\n",
    "ldahist(data=predict(lda)$x,g=dataset.train$Y)"
   ]
  },
  {
   "cell_type": "markdown",
   "id": "d99a3d7c",
   "metadata": {},
   "source": [
    "### Comment: \n",
    "In the above histograms, group 0 stands for class 1 and group 1 stands for class 2 of our simulation."
   ]
  },
  {
   "cell_type": "markdown",
   "id": "de9776ba",
   "metadata": {},
   "source": [
    "#### Logistic Regression: "
   ]
  },
  {
   "cell_type": "code",
   "execution_count": 3,
   "id": "9dbfa60d",
   "metadata": {},
   "outputs": [
    {
     "data": {
      "text/plain": [
       "\n",
       "Call:\n",
       "glm(formula = Y ~ ., family = binomial(link = \"logit\"), data = dataset.train)\n",
       "\n",
       "Deviance Residuals: \n",
       "    Min       1Q   Median       3Q      Max  \n",
       "-3.2101  -0.2871   0.0862   0.3263   3.0724  \n",
       "\n",
       "Coefficients:\n",
       "            Estimate Std. Error z value Pr(>|z|)    \n",
       "(Intercept) -1.50368    0.22565  -6.664 2.67e-11 ***\n",
       "X1           0.61033    0.04544  13.432  < 2e-16 ***\n",
       "X2           0.37269    0.04553   8.185 2.72e-16 ***\n",
       "---\n",
       "Signif. codes:  0 '***' 0.001 '**' 0.01 '*' 0.05 '.' 0.1 ' ' 1\n",
       "\n",
       "(Dispersion parameter for binomial family taken to be 1)\n",
       "\n",
       "    Null deviance: 1058.50  on 799  degrees of freedom\n",
       "Residual deviance:  422.84  on 797  degrees of freedom\n",
       "AIC: 428.84\n",
       "\n",
       "Number of Fisher Scoring iterations: 6\n"
      ]
     },
     "metadata": {},
     "output_type": "display_data"
    }
   ],
   "source": [
    "lr = glm(Y~.,family=binomial(link=\"logit\"),data=dataset.train)\n",
    "summary(lr)"
   ]
  },
  {
   "cell_type": "markdown",
   "id": "02878dbe",
   "metadata": {},
   "source": [
    "### c) Calculate the mean training and test error for both methods and compare."
   ]
  },
  {
   "cell_type": "markdown",
   "id": "dced6391",
   "metadata": {},
   "source": [
    "#### Comment:\n",
    "Confusion matrix, also known as an error matrix, is a specific table layout that allows visualization of the performance of an algorithm, typically a supervised learning one. Each column of the matrix represents the instances in an actual class while each row represents the instances in a predicted class. In this question we used the sum of diagonal of the confusion matrix which are true negative and positive rate over the overall sum to find the accuracy rate for LDA and LR.\n"
   ]
  },
  {
   "cell_type": "code",
   "execution_count": 4,
   "id": "6539c6a6",
   "metadata": {},
   "outputs": [
    {
     "name": "stdout",
     "output_type": "stream",
     "text": [
      "[1] \"Both training errors are of same value 0.10625\"\n",
      "[1] \"LR test error 0.1225 is larger than LDA test error 0.12\"\n"
     ]
    }
   ],
   "source": [
    "###Evaluate the performance of LDA###\n",
    "Ypred.train.lda = predict(lda,dataset.train)\n",
    "Ypred.test.lda = predict(lda,dataset.test)\n",
    "\n",
    "#####Training Error###\n",
    "\n",
    "confmatrix.train.lda = table(list(predicted=Ypred.train.lda$class,observed=dataset.train$Y))\n",
    "colnames(confmatrix.train.lda)=c(\"No\",\"Yes\")\n",
    "rownames(confmatrix.train.lda)=c(\"No\",\"Yes\")\n",
    "#confmatrix.train.lda                                                             #Confusion Matrix\n",
    "mean.trainaccuracy.lda=sum(diag(confmatrix.train.lda))/sum(confmatrix.train.lda) #Model Accuracy\n",
    "mean.trainerror.lda = 1- mean.trainaccuracy.lda\n",
    "#mean.trainerror.lda                                                              #Total Error rate\n",
    "\n",
    "########Testing Error###\n",
    "\n",
    "confmatrix.test.lda = table(list(predicted=Ypred.test.lda$class,observed=dataset.test$Y))\n",
    "colnames(confmatrix.test.lda)=c(\"No\",\"Yes\")\n",
    "rownames(confmatrix.test.lda)=c(\"No\",\"Yes\")\n",
    "#confmatrix.test.lda                                                              #Confusion Matrix\n",
    "mean.testaccuracy.lda=sum(diag(confmatrix.test.lda))/sum(confmatrix.test.lda)    #Model Accuracy\n",
    "mean.testerror.lda = 1-mean.testaccuracy.lda\n",
    "#mean.testerror.lda                                                               ##Total Error rate\n",
    "\n",
    "###Evaluate the performance of LR###\n",
    "\n",
    "Ypred.train.lr = predict(lr,dataset.train,type=\"response\")\n",
    "Ypred.train.lr = ifelse(Ypred.train.lr>0.5,1,0)\n",
    "Ypred.test.lr = predict(lr,dataset.test,type=\"response\")\n",
    "Ypred.test.lr = ifelse(Ypred.test.lr>0.5,1,0)\n",
    "\n",
    "###Training Error###\n",
    "\n",
    "confmatrix.train.lr = table(list(predicted=Ypred.train.lr,observed=dataset.train$Y))\n",
    "colnames(confmatrix.train.lr)=c(\"No\",\"Yes\")\n",
    "rownames(confmatrix.train.lr)=c(\"No\",\"Yes\")\n",
    "#confmatrix.train.lr                                                              #Confusion Matrix\n",
    "mean.trainaccuracy.lr= sum(diag(confmatrix.train.lr))/sum(confmatrix.train.lr)   #Model Accuracy\n",
    "mean.trainerror.lr=1-mean.trainaccuracy.lr\n",
    "#mean.trainerror.lr                                                               #Total Error rate\n",
    "\n",
    "###Testing Error###\n",
    "\n",
    "confmatrix.test.lr = table(list(predicted=Ypred.test.lr,observed=dataset.test$Y))\n",
    "colnames(confmatrix.test.lr)=c(\"No\",\"Yes\")\n",
    "rownames(confmatrix.test.lr)=c(\"No\",\"Yes\")\n",
    "#confmatrix.test.lr                                                               #Confusion Matrix\n",
    "mean.testaccuracy.lr= sum(diag(confmatrix.test.lr))/sum(confmatrix.test.lr)      #Model accuracy\n",
    "mean.testerror.lr = 1-mean.testaccuracy.lr                                       \n",
    "#mean.testerror.lr                                                                #Total error rate\n",
    "\n",
    "########Comparing test error of LDA and LR ###\n",
    "\n",
    "compare.trainerror=ifelse(mean.trainerror.lda==mean.trainerror.lr,print(paste(\"Both training errors are of same value\",mean.trainerror.lda)),\n",
    "                   ifelse(mean.trainerror.lda>mean.trainerror.lr,print(paste(\"LDA train error\",mean.trainerror.lda,\"is larger than LR train error\",mean.trainerror.lr)),\n",
    "                   print(paste(\"LR train error\",mean.trainerror.lr,\"is larger than LDA train error\",mean.trainerror.lda))))\n",
    "\n",
    "compare.testerror=ifelse(mean.testerror.lda==mean.testerror.lr,print(paste(\"Both are of same value\",mean.testerror.lda)),\n",
    "                  ifelse(mean.testerror.lda>mean.testerror.lr,print(paste(\"LDA test error\",mean.testerror.lda,\"is larger than LR test error\",mean.testerror.lr)),\n",
    "                  print(paste(\"LR test error\",mean.testerror.lr,\"is larger than LDA test error\",mean.testerror.lda))))\n",
    "\n"
   ]
  },
  {
   "cell_type": "markdown",
   "id": "5159ab1e",
   "metadata": {},
   "source": [
    "### d) What other performance dimension could you analyze?"
   ]
  },
  {
   "cell_type": "code",
   "execution_count": 5,
   "id": "134964c4",
   "metadata": {
    "scrolled": true
   },
   "outputs": [
    {
     "data": {
      "text/html": [
       "<table>\n",
       "<thead><tr><th></th><th scope=col>Total Error Rate</th><th scope=col>Accuracy Rate</th><th scope=col>Sensitivity Rate</th><th scope=col>Specificity Rate</th><th scope=col>Area Under the Curve</th></tr></thead>\n",
       "<tbody>\n",
       "\t<tr><th scope=row>Train LDA</th><td>0.10625  </td><td>0.89375  </td><td>0.916    </td><td>0.8566667</td><td>0.9550933</td></tr>\n",
       "\t<tr><th scope=row>Train LR</th><td>0.10625  </td><td>0.89375  </td><td>0.924    </td><td>0.8433333</td><td>0.8836667</td></tr>\n",
       "\t<tr><th scope=row>Test LDA</th><td>0.12000  </td><td>0.88000  </td><td>0.912    </td><td>0.8266667</td><td>0.9464667</td></tr>\n",
       "\t<tr><th scope=row>Test LR</th><td>0.12250  </td><td>0.87750  </td><td>0.916    </td><td>0.8133333</td><td>0.8646667</td></tr>\n",
       "</tbody>\n",
       "</table>\n"
      ],
      "text/latex": [
       "\\begin{tabular}{r|lllll}\n",
       "  & Total Error Rate & Accuracy Rate & Sensitivity Rate & Specificity Rate & Area Under the Curve\\\\\n",
       "\\hline\n",
       "\tTrain LDA & 0.10625   & 0.89375   & 0.916     & 0.8566667 & 0.9550933\\\\\n",
       "\tTrain LR & 0.10625   & 0.89375   & 0.924     & 0.8433333 & 0.8836667\\\\\n",
       "\tTest LDA & 0.12000   & 0.88000   & 0.912     & 0.8266667 & 0.9464667\\\\\n",
       "\tTest LR & 0.12250   & 0.87750   & 0.916     & 0.8133333 & 0.8646667\\\\\n",
       "\\end{tabular}\n"
      ],
      "text/markdown": [
       "\n",
       "| <!--/--> | Total Error Rate | Accuracy Rate | Sensitivity Rate | Specificity Rate | Area Under the Curve |\n",
       "|---|---|---|---|---|---|\n",
       "| Train LDA | 0.10625   | 0.89375   | 0.916     | 0.8566667 | 0.9550933 |\n",
       "| Train LR | 0.10625   | 0.89375   | 0.924     | 0.8433333 | 0.8836667 |\n",
       "| Test LDA | 0.12000   | 0.88000   | 0.912     | 0.8266667 | 0.9464667 |\n",
       "| Test LR | 0.12250   | 0.87750   | 0.916     | 0.8133333 | 0.8646667 |\n",
       "\n"
      ],
      "text/plain": [
       "          Total Error Rate Accuracy Rate Sensitivity Rate Specificity Rate\n",
       "Train LDA 0.10625          0.89375       0.916            0.8566667       \n",
       "Train LR  0.10625          0.89375       0.924            0.8433333       \n",
       "Test LDA  0.12000          0.88000       0.912            0.8266667       \n",
       "Test LR   0.12250          0.87750       0.916            0.8133333       \n",
       "          Area Under the Curve\n",
       "Train LDA 0.9550933           \n",
       "Train LR  0.8836667           \n",
       "Test LDA  0.9464667           \n",
       "Test LR   0.8646667           "
      ]
     },
     "metadata": {},
     "output_type": "display_data"
    }
   ],
   "source": [
    "\n",
    "############## Model Accuracy ###\n",
    "\n",
    "#accu.train = ifelse(mean.trainaccuracy.lda==mean.trainaccuracy.lr,print(paste(\"Both are of same value\",mean.trainaccuracy.lda)),\n",
    "#             ifelse(mean.trainaccuracy.lda>mean.trainaccuracy.lr,print(paste(\"LDA model predicts accuracy of\",mean.trainaccuracy.lda,\"which is more accuracte than LR model\",mean.trainaccuracy.lr)),\n",
    "#             print(paste(\"LR model\",mean.trainaccuracy.lr,\"is more accurate than LDA model\",mean.trainaccuracy.lda))))\n",
    "\n",
    "#accu.test =  ifelse(mean.testaccuracy.lda==mean.testaccuracy.lr,print(paste(\"Both are of same value\",mean.testaccuracy.lda)),\n",
    "#             ifelse(mean.testaccuracy.lda>mean.testaccuracy.lr,print(paste(\"LDA model predicts accuracy of\",mean.testaccuracy.lda,\"which is more accuracte than LR model\",mean.testaccuracy.lr)),\n",
    "#             print(paste(\"LR model\",mean.testaccuracy.lr,\"is more accurate than LDA model\",mean.testaccuracy.lda))))\n",
    "\n",
    "############# Sensitivity ###\n",
    "\n",
    "sens.train.lda=diag(confmatrix.train.lda)[2]/colSums(confmatrix.train.lda)[2]\n",
    "#sens.train.lda\n",
    "sens.test.lda = diag(confmatrix.test.lda)[2]/colSums(confmatrix.test.lda)[2]\n",
    "#sens.test.lda\n",
    "sens.train.lr = diag(confmatrix.train.lr)[2]/colSums(confmatrix.train.lr)[2]\n",
    "#sens.train.lr\n",
    "sens.test.lr = diag(confmatrix.test.lr)[2]/colSums(confmatrix.test.lr)[2]\n",
    "#sens.test.lr\n",
    "#sens.train = c(sens.train.lda,sens.train.lr)\n",
    "#sens.test = c(sens.test.lda,sens.test.lr)\n",
    "#compare.sens=paste(\"Better sens.train is = \",max(sens.train),\" and sens.test is = \",max(sens.test))\n",
    "#compare.sens\n",
    "\n",
    "########### Specificity ###\n",
    "\n",
    "spec.train.lda=diag(confmatrix.train.lda)[1]/colSums(confmatrix.train.lda)[1]\n",
    "#spec.train.lda\n",
    "spec.test.lda = diag(confmatrix.test.lda)[1]/colSums(confmatrix.test.lda)[1]\n",
    "#spec.test.lda\n",
    "spec.train.lr = diag(confmatrix.train.lr)[1]/colSums(confmatrix.train.lr)[1]\n",
    "#spec.train.lr\n",
    "spec.test.lr = diag(confmatrix.test.lr)[1]/colSums(confmatrix.test.lr)[1]\n",
    "#spec.test.lr\n",
    "#spec.train = c(spec.train.lda,spec.train.lr)\n",
    "#spec.test = c(spec.test.lda,spec.test.lr)\n",
    "#compare.spec=paste(\"Better spec.train is = \",max(spec.train),\"and better spec.test is = \",max(spec.test))\n",
    "#compare.spec\n",
    "\n",
    "\n",
    "############## ROC and AUC ###\n",
    "\n",
    "pr.train.lda = prediction(Ypred.train.lda$posterior[,2],dataset.train$Y) \n",
    "ROC.train.lda = performance(pr.train.lda,measure=\"tpr\",x.measure = \"fpr\")\n",
    "#plot(ROC.train.lda,main=\"ROC Curve_train_LDA\",col='blue')\n",
    "#abline(a=0,b=1)\n",
    "auc.train.lda = performance(pr.train.lda,measure=\"auc\")\n",
    "auc.train.lda = auc.train.lda@y.values[[1]]\n",
    "#auc.train.lda\n",
    "\n",
    "pr.test.lda = prediction(Ypred.test.lda$posterior[,2],dataset.test$Y) \n",
    "ROC.test.lda = performance(pr.test.lda,measure=\"tpr\",x.measure = \"fpr\")\n",
    "#plot(ROC.test.lda,main=\"ROC Curve_test_LDA\",col=\"Red\")\n",
    "#abline(a=0,b=1)\n",
    "auc.test.lda = performance(pr.test.lda,measure=\"auc\")\n",
    "auc.test.lda = auc.test.lda@y.values[[1]]\n",
    "#auc.test.lda\n",
    "\n",
    "pr.train.lr = prediction(Ypred.train.lr,dataset.train$Y) \n",
    "ROC.train.lr = performance(pr.train.lr,measure=\"tpr\",x.measure = \"fpr\")\n",
    "#plot(ROC.train.lr,main=\"ROC Curve_train_LR\",col='blue')\n",
    "#abline(a=0,b=1)\n",
    "auc.train.lr = performance(pr.train.lr,measure=\"auc\")\n",
    "auc.train.lr = auc.train.lr@y.values[[1]]\n",
    "#auc.train.lr\n",
    "\n",
    "pr.test.lr = prediction(Ypred.test.lr,dataset.test$Y) \n",
    "ROC.test.lr = performance(pr.test.lr,measure=\"tpr\",x.measure = \"fpr\")\n",
    "#plot(ROC.test.lr,main=\"ROC Curve_test_LR\",col=\"Red\")\n",
    "#abline(a=0,b=1)\n",
    "auc.test.lr = performance(pr.test.lr,measure=\"auc\")\n",
    "auc.test.lr = auc.test.lr@y.values[[1]]\n",
    "#auc.test.lr\n",
    "\n",
    "#auc.train=c(auc.train.lda,auc.train.lr)\n",
    "#auc.test=c(auc.test.lda,auc.test.lr)\n",
    "#compare.auc = paste(\"Better auc.train is = \",max(auc.train),\"and better auc.test is = \",max(auc.test))\n",
    "#compare.auc\n",
    "\n",
    "################ Evaluation Summary ###\n",
    "\n",
    "Evaluation.table = rbind(c(mean.trainerror.lda,mean.trainaccuracy.lda,sens.train.lda,spec.train.lda,auc.train.lda),\n",
    "                         c(mean.trainerror.lr,mean.trainaccuracy.lr,sens.train.lr,spec.train.lr,auc.train.lr),\n",
    "                         c(mean.testerror.lda,mean.testaccuracy.lda,sens.test.lda,spec.test.lda,auc.test.lda),\n",
    "                         c(mean.testerror.lr,mean.testaccuracy.lr,sens.test.lr,spec.test.lr,auc.test.lr))\n",
    "colnames(Evaluation.table) = c(\"Total Error Rate\",\"Accuracy Rate\",\"Sensitivity Rate\",\"Specificity Rate\",\"Area Under the Curve\")\n",
    "rownames(Evaluation.table) = c(\"Train LDA\",\"Train LR\",\"Test LDA\",\"Test LR\")\n",
    "Evaluation.table\n"
   ]
  },
  {
   "cell_type": "markdown",
   "id": "d58c8c52",
   "metadata": {},
   "source": [
    "### Comment: \n",
    "In large sample size, logistic regression (LR) performs almost the same as linear discriminant analysis LDA. "
   ]
  },
  {
   "cell_type": "code",
   "execution_count": 6,
   "id": "8865649c",
   "metadata": {},
   "outputs": [
    {
     "data": {
      "text/html": [
       "'Confusion Matrix_Train_LDA'"
      ],
      "text/latex": [
       "'Confusion Matrix\\_Train\\_LDA'"
      ],
      "text/markdown": [
       "'Confusion Matrix_Train_LDA'"
      ],
      "text/plain": [
       "[1] \"Confusion Matrix_Train_LDA\""
      ]
     },
     "metadata": {},
     "output_type": "display_data"
    },
    {
     "data": {
      "text/plain": [
       "         observed\n",
       "predicted  No Yes\n",
       "      No  257  42\n",
       "      Yes  43 458"
      ]
     },
     "metadata": {},
     "output_type": "display_data"
    },
    {
     "data": {
      "text/html": [
       "'Confusion Matrix_Train_LR'"
      ],
      "text/latex": [
       "'Confusion Matrix\\_Train\\_LR'"
      ],
      "text/markdown": [
       "'Confusion Matrix_Train_LR'"
      ],
      "text/plain": [
       "[1] \"Confusion Matrix_Train_LR\""
      ]
     },
     "metadata": {},
     "output_type": "display_data"
    },
    {
     "data": {
      "text/plain": [
       "         observed\n",
       "predicted  No Yes\n",
       "      No  253  38\n",
       "      Yes  47 462"
      ]
     },
     "metadata": {},
     "output_type": "display_data"
    },
    {
     "data": {
      "text/html": [
       "'Confusion Matrix_Test_LDA'"
      ],
      "text/latex": [
       "'Confusion Matrix\\_Test\\_LDA'"
      ],
      "text/markdown": [
       "'Confusion Matrix_Test_LDA'"
      ],
      "text/plain": [
       "[1] \"Confusion Matrix_Test_LDA\""
      ]
     },
     "metadata": {},
     "output_type": "display_data"
    },
    {
     "data": {
      "text/plain": [
       "         observed\n",
       "predicted  No Yes\n",
       "      No  248  44\n",
       "      Yes  52 456"
      ]
     },
     "metadata": {},
     "output_type": "display_data"
    },
    {
     "data": {
      "text/html": [
       "'Confusion Matrix_Test_LR'"
      ],
      "text/latex": [
       "'Confusion Matrix\\_Test\\_LR'"
      ],
      "text/markdown": [
       "'Confusion Matrix_Test_LR'"
      ],
      "text/plain": [
       "[1] \"Confusion Matrix_Test_LR\""
      ]
     },
     "metadata": {},
     "output_type": "display_data"
    },
    {
     "data": {
      "text/plain": [
       "         observed\n",
       "predicted  No Yes\n",
       "      No  244  42\n",
       "      Yes  56 458"
      ]
     },
     "metadata": {},
     "output_type": "display_data"
    }
   ],
   "source": [
    "head(\"Confusion Matrix_Train_LDA\")\n",
    "confmatrix.train.lda\n",
    "head(\"Confusion Matrix_Train_LR\")\n",
    "confmatrix.train.lr\n",
    "head(\"Confusion Matrix_Test_LDA\")\n",
    "confmatrix.test.lda\n",
    "head(\"Confusion Matrix_Test_LR\")\n",
    "confmatrix.test.lr"
   ]
  },
  {
   "cell_type": "markdown",
   "id": "4714f9e3",
   "metadata": {},
   "source": [
    "### Comment: \n",
    "Sensitivity - True positive rate: the fraction of class 2 that are correctly identified using a given threshold value.\n",
    "\n",
    "Specificity - True negative rate : the fraction of non-class 2 (class 1) that we classify correctly identify non-class 2 (class 1).\n",
    "\n",
    "Sensitivity and specificity could be changed by the threshold of posterior probability."
   ]
  },
  {
   "cell_type": "code",
   "execution_count": 7,
   "id": "f496298e",
   "metadata": {},
   "outputs": [
    {
     "data": {
      "image/png": "[encoded data removed]",
      "text/plain": [
       "Plot with title \"ROC Curve_test_LR\""
      ]
     },
     "metadata": {},
     "output_type": "display_data"
    }
   ],
   "source": [
    "ROC = par(mfrow=c(2,2))\n",
    "plot(ROC.train.lda,main=\"ROC Curve_train_LDA\",col='blue')\n",
    "abline(a=0,b=1)\n",
    "plot(ROC.test.lda,main=\"ROC Curve_test_LDA\",col=\"Red\")\n",
    "abline(a=0,b=1)\n",
    "plot(ROC.train.lr,main=\"ROC Curve_train_LR\",col='blue')\n",
    "abline(a=0,b=1)\n",
    "plot(ROC.test.lr,main=\"ROC Curve_test_LR\",col=\"Red\")\n",
    "abline(a=0,b=1)\n"
   ]
  },
  {
   "cell_type": "markdown",
   "id": "4f868b72",
   "metadata": {},
   "source": [
    "### Comment: \n",
    "Roc curve for the LDA classifier on the class 2. ROC is graphed out as TPR against FPR. The ideal ROC curve hugs the top left corner indicating a high true positive rate and a low false positive rate. The 45 degree line represents the “no information” classifier. The overall performance of a classifier summarized over all possible thresholds is given by the area under the ROC curve AUC. AUC is between 0.5 and 1. Higher the AUC, better the model.  "
   ]
  },
  {
   "cell_type": "markdown",
   "id": "eb23bce4",
   "metadata": {},
   "source": [
    "# Exercise 2\n",
    "### a) Evaluate the difference between the two methods through calculating classification training and test error in a simulation study for $100$ different samples. What are other statistic could we consider? "
   ]
  },
  {
   "cell_type": "code",
   "execution_count": 8,
   "id": "0c340450",
   "metadata": {
    "scrolled": true
   },
   "outputs": [
    {
     "data": {
      "text/plain": [
       "Call:\n",
       "lda(Y ~ ., data = dataset.train)\n",
       "\n",
       "Prior probabilities of groups:\n",
       "  0   1 \n",
       "0.5 0.5 \n",
       "\n",
       "Group means:\n",
       "         X1       X2\n",
       "0 -4.332835 4.036208\n",
       "1  4.922649 5.120851\n",
       "\n",
       "Coefficients of linear discriminants:\n",
       "         LD1\n",
       "X1 0.3167521\n",
       "X2 0.1026341"
      ]
     },
     "metadata": {},
     "output_type": "display_data"
    }
   ],
   "source": [
    "set.seed(100)\n",
    "library(ROCR)\n",
    "library(MASS)\n",
    "library(mvtnorm)\n",
    "n_1 = 50 #Sample size of class 1\n",
    "n_2 = 50 #Sample size of class 2\n",
    "mu_1 = c(-3,3) #Mean vector for class 1\n",
    "mu_2 = c(5,5)  #Mean vector for class 2\n",
    "sigma = matrix(c(16,-2,-2,9),ncol=2,nrow=2) #VarCovariance matrix for class 1 and class 2\n",
    "dataset = function(n_1,n_2,mu_1,mu_2,sigma){\n",
    "  X_Class1 = mvtnorm::rmvnorm(n_1,mu_1,sigma) #Multivariate normal distribution for class 1\n",
    "  X_Class2 = mvtnorm::rmvnorm(n_2,mu_2,sigma) #Multivariate normal distribution for class 1\n",
    "  Y = c(rep(0,n_1),rep(1,n_2)) #Indicator Variable where '0' is for 'Class 1' and '1' is for 'Class 2'\n",
    "  data = data.frame(cbind(rbind(X_Class1,X_Class2),Y))\n",
    "  colnames(data)=c(\"X1\",\"X2\",\"Y\")\n",
    "  return(data)\n",
    "}\n",
    "dataset.train = dataset(n_1,n_2,mu_1,mu_2,sigma)\n",
    "dataset.test =  dataset(n_1,n_2,mu_1,mu_2,sigma)\n",
    "\n",
    "lda = lda(Y~.,data=dataset.train) #Train the model\n",
    "lda\n"
   ]
  },
  {
   "cell_type": "code",
   "execution_count": 9,
   "id": "659f1b36",
   "metadata": {},
   "outputs": [
    {
     "data": {
      "image/png": "[encoded data removed]",
      "text/plain": [
       "plot without title"
      ]
     },
     "metadata": {},
     "output_type": "display_data"
    }
   ],
   "source": [
    "ldahist(data=predict(lda)$x,g=dataset.train$Y)"
   ]
  },
  {
   "cell_type": "markdown",
   "id": "0d293553",
   "metadata": {},
   "source": [
    "### Comment: \n",
    "In the above histograms, group 0 stands for class 1 and group 1 stands for class 2 of our simulation."
   ]
  },
  {
   "cell_type": "code",
   "execution_count": 10,
   "id": "367d5b8a",
   "metadata": {},
   "outputs": [
    {
     "data": {
      "text/plain": [
       "\n",
       "Call:\n",
       "glm(formula = Y ~ ., family = binomial(link = \"logit\"), data = dataset.train)\n",
       "\n",
       "Deviance Residuals: \n",
       "     Min        1Q    Median        3Q       Max  \n",
       "-2.40116  -0.12531  -0.00026   0.09737   1.91278  \n",
       "\n",
       "Coefficients:\n",
       "            Estimate Std. Error z value Pr(>|z|)    \n",
       "(Intercept)  -2.5477     1.0632  -2.396   0.0166 *  \n",
       "X1            1.0836     0.2645   4.097 4.19e-05 ***\n",
       "X2            0.5123     0.2258   2.269   0.0233 *  \n",
       "---\n",
       "Signif. codes:  0 '***' 0.001 '**' 0.01 '*' 0.05 '.' 0.1 ' ' 1\n",
       "\n",
       "(Dispersion parameter for binomial family taken to be 1)\n",
       "\n",
       "    Null deviance: 138.629  on 99  degrees of freedom\n",
       "Residual deviance:  27.254  on 97  degrees of freedom\n",
       "AIC: 33.254\n",
       "\n",
       "Number of Fisher Scoring iterations: 8\n"
      ]
     },
     "metadata": {},
     "output_type": "display_data"
    }
   ],
   "source": [
    "lr = glm(Y~.,family=binomial(link=\"logit\"),data=dataset.train)\n",
    "summary(lr)\n"
   ]
  },
  {
   "cell_type": "code",
   "execution_count": 11,
   "id": "f4f2df74",
   "metadata": {},
   "outputs": [
    {
     "data": {
      "text/html": [
       "'Evaluation.table'"
      ],
      "text/latex": [
       "'Evaluation.table'"
      ],
      "text/markdown": [
       "'Evaluation.table'"
      ],
      "text/plain": [
       "[1] \"Evaluation.table\""
      ]
     },
     "metadata": {},
     "output_type": "display_data"
    },
    {
     "data": {
      "text/html": [
       "<table>\n",
       "<thead><tr><th></th><th scope=col>Total Error Rate</th><th scope=col>Accuracy Rate</th><th scope=col>Sensitivity Rate</th><th scope=col>Specificity Rate</th><th scope=col>Area Under the Curve</th></tr></thead>\n",
       "<tbody>\n",
       "\t<tr><th scope=row>Train LDA</th><td>0.05  </td><td>0.95  </td><td>0.96  </td><td>0.94  </td><td>0.9880</td></tr>\n",
       "\t<tr><th scope=row>Train LR</th><td>0.06  </td><td>0.94  </td><td>0.94  </td><td>0.94  </td><td>0.9400</td></tr>\n",
       "\t<tr><th scope=row>Test LDA</th><td>0.12  </td><td>0.88  </td><td>0.86  </td><td>0.90  </td><td>0.9248</td></tr>\n",
       "\t<tr><th scope=row>Test LR</th><td>0.13  </td><td>0.87  </td><td>0.86  </td><td>0.88  </td><td>0.8700</td></tr>\n",
       "</tbody>\n",
       "</table>\n"
      ],
      "text/latex": [
       "\\begin{tabular}{r|lllll}\n",
       "  & Total Error Rate & Accuracy Rate & Sensitivity Rate & Specificity Rate & Area Under the Curve\\\\\n",
       "\\hline\n",
       "\tTrain LDA & 0.05   & 0.95   & 0.96   & 0.94   & 0.9880\\\\\n",
       "\tTrain LR & 0.06   & 0.94   & 0.94   & 0.94   & 0.9400\\\\\n",
       "\tTest LDA & 0.12   & 0.88   & 0.86   & 0.90   & 0.9248\\\\\n",
       "\tTest LR & 0.13   & 0.87   & 0.86   & 0.88   & 0.8700\\\\\n",
       "\\end{tabular}\n"
      ],
      "text/markdown": [
       "\n",
       "| <!--/--> | Total Error Rate | Accuracy Rate | Sensitivity Rate | Specificity Rate | Area Under the Curve |\n",
       "|---|---|---|---|---|---|\n",
       "| Train LDA | 0.05   | 0.95   | 0.96   | 0.94   | 0.9880 |\n",
       "| Train LR | 0.06   | 0.94   | 0.94   | 0.94   | 0.9400 |\n",
       "| Test LDA | 0.12   | 0.88   | 0.86   | 0.90   | 0.9248 |\n",
       "| Test LR | 0.13   | 0.87   | 0.86   | 0.88   | 0.8700 |\n",
       "\n"
      ],
      "text/plain": [
       "          Total Error Rate Accuracy Rate Sensitivity Rate Specificity Rate\n",
       "Train LDA 0.05             0.95          0.96             0.94            \n",
       "Train LR  0.06             0.94          0.94             0.94            \n",
       "Test LDA  0.12             0.88          0.86             0.90            \n",
       "Test LR   0.13             0.87          0.86             0.88            \n",
       "          Area Under the Curve\n",
       "Train LDA 0.9880              \n",
       "Train LR  0.9400              \n",
       "Test LDA  0.9248              \n",
       "Test LR   0.8700              "
      ]
     },
     "metadata": {},
     "output_type": "display_data"
    }
   ],
   "source": [
    "\n",
    "###Evaluate the performance of LDA###\n",
    "\n",
    "Ypred.train.lda = predict(lda,dataset.train)\n",
    "Ypred.test.lda = predict(lda,dataset.test)\n",
    "\n",
    "###Training Error###\n",
    "\n",
    "confmatrix.train.lda = table(list(predicted=Ypred.train.lda$class,observed=dataset.train$Y))\n",
    "colnames(confmatrix.train.lda)=c(\"No\",\"Yes\")\n",
    "rownames(confmatrix.train.lda)=c(\"No\",\"Yes\")\n",
    "mean.trainaccuracy.lda=sum(diag(confmatrix.train.lda))/sum(confmatrix.train.lda) #Model Accuracy\n",
    "mean.trainerror.lda = 1- mean.trainaccuracy.lda\n",
    "\n",
    "####Testing Error###\n",
    "\n",
    "confmatrix.test.lda = table(list(predicted=Ypred.test.lda$class,observed=dataset.test$Y))\n",
    "colnames(confmatrix.test.lda)=c(\"No\",\"Yes\")\n",
    "rownames(confmatrix.test.lda)=c(\"No\",\"Yes\")\n",
    "mean.testaccuracy.lda=sum(diag(confmatrix.test.lda))/sum(confmatrix.test.lda)    #Model Accuracy\n",
    "mean.testerror.lda = 1-mean.testaccuracy.lda\n",
    "\n",
    "###Evaluate the performance of LR###\n",
    "\n",
    "Ypred.train.lr = predict(lr,dataset.train,type=\"response\")\n",
    "Ypred.train.lr = ifelse(Ypred.train.lr>0.5,1,0)\n",
    "Ypred.test.lr = predict(lr,dataset.test,type=\"response\")\n",
    "Ypred.test.lr = ifelse(Ypred.test.lr>0.5,1,0)\n",
    "\n",
    "####Training Error###\n",
    "\n",
    "confmatrix.train.lr = table(list(predicted=Ypred.train.lr,observed=dataset.train$Y))\n",
    "colnames(confmatrix.train.lr)=c(\"No\",\"Yes\")\n",
    "rownames(confmatrix.train.lr)=c(\"No\",\"Yes\")\n",
    "mean.trainaccuracy.lr= sum(diag(confmatrix.train.lr))/sum(confmatrix.train.lr)   #Model Accuracy\n",
    "mean.trainerror.lr=1-mean.trainaccuracy.lr\n",
    "\n",
    "####Testing Error###\n",
    "\n",
    "confmatrix.test.lr = table(list(predicted=Ypred.test.lr,observed=dataset.test$Y))\n",
    "colnames(confmatrix.test.lr)=c(\"No\",\"Yes\")\n",
    "rownames(confmatrix.test.lr)=c(\"No\",\"Yes\")\n",
    "mean.testaccuracy.lr= sum(diag(confmatrix.test.lr))/sum(confmatrix.test.lr)      #Model accuracy\n",
    "mean.testerror.lr = 1-mean.testaccuracy.lr                                       \n",
    "\n",
    "####Sensitivity### \n",
    "\n",
    "sens.train.lda=diag(confmatrix.train.lda)[2]/colSums(confmatrix.train.lda)[2]\n",
    "sens.test.lda = diag(confmatrix.test.lda)[2]/colSums(confmatrix.test.lda)[2]\n",
    "sens.train.lr = diag(confmatrix.train.lr)[2]/colSums(confmatrix.train.lr)[2]\n",
    "sens.test.lr = diag(confmatrix.test.lr)[2]/colSums(confmatrix.test.lr)[2]\n",
    "\n",
    "#####Specificity###\n",
    "\n",
    "spec.train.lda=diag(confmatrix.train.lda)[1]/colSums(confmatrix.train.lda)[1]\n",
    "spec.test.lda = diag(confmatrix.test.lda)[1]/colSums(confmatrix.test.lda)[1]\n",
    "spec.train.lr = diag(confmatrix.train.lr)[1]/colSums(confmatrix.train.lr)[1]\n",
    "spec.test.lr = diag(confmatrix.test.lr)[1]/colSums(confmatrix.test.lr)[1]\n",
    "\n",
    "#####ROC and AUC###\n",
    "\n",
    "pr.train.lda = prediction(Ypred.train.lda$posterior[,2],dataset.train$Y) \n",
    "ROC.train.lda = performance(pr.train.lda,measure=\"tpr\",x.measure = \"fpr\")\n",
    "auc.train.lda = performance(pr.train.lda,measure=\"auc\")\n",
    "auc.train.lda = auc.train.lda@y.values[[1]]\n",
    "\n",
    "pr.test.lda = prediction(Ypred.test.lda$posterior[,2],dataset.test$Y) \n",
    "ROC.test.lda = performance(pr.test.lda,measure=\"tpr\",x.measure = \"fpr\")\n",
    "auc.test.lda = performance(pr.test.lda,measure=\"auc\")\n",
    "auc.test.lda = auc.test.lda@y.values[[1]]\n",
    "\n",
    "pr.train.lr = prediction(Ypred.train.lr,dataset.train$Y) \n",
    "ROC.train.lr = performance(pr.train.lr,measure=\"tpr\",x.measure = \"fpr\")\n",
    "auc.train.lr = performance(pr.train.lr,measure=\"auc\")\n",
    "auc.train.lr = auc.train.lr@y.values[[1]]\n",
    "\n",
    "pr.test.lr = prediction(Ypred.test.lr,dataset.test$Y) \n",
    "ROC.test.lr = performance(pr.test.lr,measure=\"tpr\",x.measure = \"fpr\")\n",
    "auc.test.lr = performance(pr.test.lr,measure=\"auc\")\n",
    "auc.test.lr = auc.test.lr@y.values[[1]]\n",
    "\n",
    "#####Evaluation Summary###\n",
    "\n",
    "Evaluation.table = rbind(c(mean.trainerror.lda,mean.trainaccuracy.lda,sens.train.lda,spec.train.lda,auc.train.lda),\n",
    "                         c(mean.trainerror.lr,mean.trainaccuracy.lr,sens.train.lr,spec.train.lr,auc.train.lr),\n",
    "                         c(mean.testerror.lda,mean.testaccuracy.lda,sens.test.lda,spec.test.lda,auc.test.lda),\n",
    "                         c(mean.testerror.lr,mean.testaccuracy.lr,sens.test.lr,spec.test.lr,auc.test.lr))\n",
    "colnames(Evaluation.table) = c(\"Total Error Rate\",\"Accuracy Rate\",\"Sensitivity Rate\",\"Specificity Rate\",\"Area Under the Curve\")\n",
    "rownames(Evaluation.table) = c(\"Train LDA\",\"Train LR\",\"Test LDA\",\"Test LR\")\n",
    "head(\"Evaluation.table\")\n",
    "Evaluation.table\n",
    "\n"
   ]
  },
  {
   "cell_type": "code",
   "execution_count": 12,
   "id": "5942a817",
   "metadata": {},
   "outputs": [
    {
     "data": {
      "text/html": [
       "'Confusion Matrix_Train_LDA'"
      ],
      "text/latex": [
       "'Confusion Matrix\\_Train\\_LDA'"
      ],
      "text/markdown": [
       "'Confusion Matrix_Train_LDA'"
      ],
      "text/plain": [
       "[1] \"Confusion Matrix_Train_LDA\""
      ]
     },
     "metadata": {},
     "output_type": "display_data"
    },
    {
     "data": {
      "text/plain": [
       "         observed\n",
       "predicted No Yes\n",
       "      No  47   2\n",
       "      Yes  3  48"
      ]
     },
     "metadata": {},
     "output_type": "display_data"
    },
    {
     "data": {
      "text/html": [
       "'Confusion Matrix_Train_LR'"
      ],
      "text/latex": [
       "'Confusion Matrix\\_Train\\_LR'"
      ],
      "text/markdown": [
       "'Confusion Matrix_Train_LR'"
      ],
      "text/plain": [
       "[1] \"Confusion Matrix_Train_LR\""
      ]
     },
     "metadata": {},
     "output_type": "display_data"
    },
    {
     "data": {
      "text/plain": [
       "         observed\n",
       "predicted No Yes\n",
       "      No  47   3\n",
       "      Yes  3  47"
      ]
     },
     "metadata": {},
     "output_type": "display_data"
    },
    {
     "data": {
      "text/html": [
       "'Confusion Matrix_Test_LDA'"
      ],
      "text/latex": [
       "'Confusion Matrix\\_Test\\_LDA'"
      ],
      "text/markdown": [
       "'Confusion Matrix_Test_LDA'"
      ],
      "text/plain": [
       "[1] \"Confusion Matrix_Test_LDA\""
      ]
     },
     "metadata": {},
     "output_type": "display_data"
    },
    {
     "data": {
      "text/plain": [
       "         observed\n",
       "predicted No Yes\n",
       "      No  45   7\n",
       "      Yes  5  43"
      ]
     },
     "metadata": {},
     "output_type": "display_data"
    },
    {
     "data": {
      "text/html": [
       "'Confusion Matrix_Test_LR'"
      ],
      "text/latex": [
       "'Confusion Matrix\\_Test\\_LR'"
      ],
      "text/markdown": [
       "'Confusion Matrix_Test_LR'"
      ],
      "text/plain": [
       "[1] \"Confusion Matrix_Test_LR\""
      ]
     },
     "metadata": {},
     "output_type": "display_data"
    },
    {
     "data": {
      "text/plain": [
       "         observed\n",
       "predicted No Yes\n",
       "      No  44   7\n",
       "      Yes  6  43"
      ]
     },
     "metadata": {},
     "output_type": "display_data"
    }
   ],
   "source": [
    "head(\"Confusion Matrix_Train_LDA\")\n",
    "confmatrix.train.lda\n",
    "head(\"Confusion Matrix_Train_LR\")\n",
    "confmatrix.train.lr\n",
    "head(\"Confusion Matrix_Test_LDA\")\n",
    "confmatrix.test.lda\n",
    "head(\"Confusion Matrix_Test_LR\")\n",
    "confmatrix.test.lr"
   ]
  },
  {
   "cell_type": "code",
   "execution_count": 13,
   "id": "0b1a4a8a",
   "metadata": {},
   "outputs": [
    {
     "data": {
      "image/png": "[encoded data removed]",
      "text/plain": [
       "Plot with title \"ROC Curve_test_LR\""
      ]
     },
     "metadata": {},
     "output_type": "display_data"
    }
   ],
   "source": [
    "ROC = par(mfrow=c(2,2))\n",
    "plot(ROC.train.lda,main=\"ROC Curve_train_LDA\",col='blue')\n",
    "abline(a=0,b=1)\n",
    "plot(ROC.test.lda,main=\"ROC Curve_test_LDA\",col=\"Red\")\n",
    "abline(a=0,b=1)\n",
    "plot(ROC.train.lr,main=\"ROC Curve_train_LR\",col='blue')\n",
    "abline(a=0,b=1)\n",
    "plot(ROC.test.lr,main=\"ROC Curve_test_LR\",col=\"Red\")\n",
    "abline(a=0,b=1)\n"
   ]
  },
  {
   "cell_type": "markdown",
   "id": "040ddde3",
   "metadata": {},
   "source": [
    "### b) Consider the differences in the objective of both lda and the logit model. Test your intuition by performing a suitable simulation study and manipulating the dfp above to increase or decrease the advantage of the lda. "
   ]
  },
  {
   "cell_type": "code",
   "execution_count": 14,
   "id": "56229ec6",
   "metadata": {},
   "outputs": [
    {
     "data": {
      "text/plain": [
       "Call:\n",
       "lda(Y ~ ., data = dataset.train1)\n",
       "\n",
       "Prior probabilities of groups:\n",
       "  0   1 \n",
       "0.5 0.5 \n",
       "\n",
       "Group means:\n",
       "         X1       X2\n",
       "0 -3.012088 3.038154\n",
       "1  5.047855 5.016765\n",
       "\n",
       "Coefficients of linear discriminants:\n",
       "         LD1\n",
       "X1 0.2468705\n",
       "X2 0.1456418"
      ]
     },
     "metadata": {},
     "output_type": "display_data"
    },
    {
     "data": {
      "image/png": "[encoded data removed]",
      "text/plain": [
       "plot without title"
      ]
     },
     "metadata": {},
     "output_type": "display_data"
    }
   ],
   "source": [
    "set.seed(100)\n",
    "dataset.train1 = dataset(n_1=400,n_2=400,mu_1,mu_2,sigma)\n",
    "dataset.test1 =  dataset(n_1=400,n_2=400,mu_1,mu_2,sigma)\n",
    "\n",
    "lda1 = lda(Y~.,data=dataset.train1) #Train the model\n",
    "lda1\n",
    "ldahist(data=predict(lda1)$x,g=dataset.train1$Y)"
   ]
  },
  {
   "cell_type": "code",
   "execution_count": 15,
   "id": "687562fe",
   "metadata": {},
   "outputs": [
    {
     "data": {
      "text/plain": [
       "\n",
       "Call:\n",
       "glm(formula = Y ~ ., family = binomial(link = \"logit\"), data = dataset.train1)\n",
       "\n",
       "Deviance Residuals: \n",
       "     Min        1Q    Median        3Q       Max  \n",
       "-2.99533  -0.39637   0.00217   0.33018   3.15123  \n",
       "\n",
       "Coefficients:\n",
       "            Estimate Std. Error z value Pr(>|z|)    \n",
       "(Intercept) -2.04928    0.22666  -9.041   <2e-16 ***\n",
       "X1           0.59266    0.04288  13.822   <2e-16 ***\n",
       "X2           0.37764    0.04393   8.596   <2e-16 ***\n",
       "---\n",
       "Signif. codes:  0 '***' 0.001 '**' 0.01 '*' 0.05 '.' 0.1 ' ' 1\n",
       "\n",
       "(Dispersion parameter for binomial family taken to be 1)\n",
       "\n",
       "    Null deviance: 1109.04  on 799  degrees of freedom\n",
       "Residual deviance:  458.16  on 797  degrees of freedom\n",
       "AIC: 464.16\n",
       "\n",
       "Number of Fisher Scoring iterations: 6\n"
      ]
     },
     "metadata": {},
     "output_type": "display_data"
    }
   ],
   "source": [
    "lr1 = glm(Y~.,family=binomial(link=\"logit\"),data=dataset.train1)\n",
    "summary(lr1)"
   ]
  },
  {
   "cell_type": "code",
   "execution_count": 16,
   "id": "68d272e3",
   "metadata": {},
   "outputs": [
    {
     "data": {
      "text/html": [
       "'Evaluation.table1'"
      ],
      "text/latex": [
       "'Evaluation.table1'"
      ],
      "text/markdown": [
       "'Evaluation.table1'"
      ],
      "text/plain": [
       "[1] \"Evaluation.table1\""
      ]
     },
     "metadata": {},
     "output_type": "display_data"
    },
    {
     "data": {
      "text/html": [
       "<table>\n",
       "<thead><tr><th></th><th scope=col>Total Error Rate</th><th scope=col>Accuracy Rate</th><th scope=col>Sensitivity Rate</th><th scope=col>Specificity Rate</th><th scope=col>Area Under the Curve</th></tr></thead>\n",
       "<tbody>\n",
       "\t<tr><th scope=row>Train LDA</th><td>0.12625  </td><td>0.87375  </td><td>0.8525   </td><td>0.8950   </td><td>0.9503562</td></tr>\n",
       "\t<tr><th scope=row>Train LR</th><td>0.12375  </td><td>0.87625  </td><td>0.8625   </td><td>0.8900   </td><td>0.8762500</td></tr>\n",
       "\t<tr><th scope=row>Test LDA</th><td>0.13375  </td><td>0.86625  </td><td>0.8725   </td><td>0.8600   </td><td>0.9468125</td></tr>\n",
       "\t<tr><th scope=row>Test LR</th><td>0.13125  </td><td>0.86875  </td><td>0.8850   </td><td>0.8525   </td><td>0.8687500</td></tr>\n",
       "</tbody>\n",
       "</table>\n"
      ],
      "text/latex": [
       "\\begin{tabular}{r|lllll}\n",
       "  & Total Error Rate & Accuracy Rate & Sensitivity Rate & Specificity Rate & Area Under the Curve\\\\\n",
       "\\hline\n",
       "\tTrain LDA & 0.12625   & 0.87375   & 0.8525    & 0.8950    & 0.9503562\\\\\n",
       "\tTrain LR & 0.12375   & 0.87625   & 0.8625    & 0.8900    & 0.8762500\\\\\n",
       "\tTest LDA & 0.13375   & 0.86625   & 0.8725    & 0.8600    & 0.9468125\\\\\n",
       "\tTest LR & 0.13125   & 0.86875   & 0.8850    & 0.8525    & 0.8687500\\\\\n",
       "\\end{tabular}\n"
      ],
      "text/markdown": [
       "\n",
       "| <!--/--> | Total Error Rate | Accuracy Rate | Sensitivity Rate | Specificity Rate | Area Under the Curve |\n",
       "|---|---|---|---|---|---|\n",
       "| Train LDA | 0.12625   | 0.87375   | 0.8525    | 0.8950    | 0.9503562 |\n",
       "| Train LR | 0.12375   | 0.87625   | 0.8625    | 0.8900    | 0.8762500 |\n",
       "| Test LDA | 0.13375   | 0.86625   | 0.8725    | 0.8600    | 0.9468125 |\n",
       "| Test LR | 0.13125   | 0.86875   | 0.8850    | 0.8525    | 0.8687500 |\n",
       "\n"
      ],
      "text/plain": [
       "          Total Error Rate Accuracy Rate Sensitivity Rate Specificity Rate\n",
       "Train LDA 0.12625          0.87375       0.8525           0.8950          \n",
       "Train LR  0.12375          0.87625       0.8625           0.8900          \n",
       "Test LDA  0.13375          0.86625       0.8725           0.8600          \n",
       "Test LR   0.13125          0.86875       0.8850           0.8525          \n",
       "          Area Under the Curve\n",
       "Train LDA 0.9503562           \n",
       "Train LR  0.8762500           \n",
       "Test LDA  0.9468125           \n",
       "Test LR   0.8687500           "
      ]
     },
     "metadata": {},
     "output_type": "display_data"
    }
   ],
   "source": [
    "###Evaluate the performance of LDA###\n",
    "\n",
    "Ypred.train.lda1 = predict(lda1,dataset.train1)\n",
    "Ypred.test.lda1 = predict(lda1,dataset.test1)\n",
    "\n",
    "#####Training Error###\n",
    "\n",
    "confmatrix.train.lda1 = table(list(predicted=Ypred.train.lda1$class,observed=dataset.train1$Y))\n",
    "colnames(confmatrix.train.lda1)=c(\"No\",\"Yes\")\n",
    "rownames(confmatrix.train.lda1)=c(\"No\",\"Yes\")\n",
    "mean.trainaccuracy.lda1=sum(diag(confmatrix.train.lda1))/sum(confmatrix.train.lda1) #Model Accuracy\n",
    "mean.trainerror.lda1 = 1- mean.trainaccuracy.lda1\n",
    "\n",
    "####Testing Error###\n",
    "\n",
    "confmatrix.test.lda1 = table(list(predicted=Ypred.test.lda1$class,observed=dataset.test1$Y))\n",
    "colnames(confmatrix.test.lda1)=c(\"No\",\"Yes\")\n",
    "rownames(confmatrix.test.lda1)=c(\"No\",\"Yes\")\n",
    "mean.testaccuracy.lda1=sum(diag(confmatrix.test.lda1))/sum(confmatrix.test.lda1)    #Model Accuracy\n",
    "mean.testerror.lda1 = 1-mean.testaccuracy.lda1\n",
    "\n",
    "###Evaluate the performance of LR###\n",
    "\n",
    "Ypred.train.lr1 = predict(lr1,dataset.train1,type=\"response\")\n",
    "Ypred.train.lr1 = ifelse(Ypred.train.lr1>0.5,1,0)\n",
    "Ypred.test.lr1 = predict(lr1,dataset.test1,type=\"response\")\n",
    "Ypred.test.lr1 = ifelse(Ypred.test.lr1>0.5,1,0)\n",
    "\n",
    "###Training Error###\n",
    "\n",
    "confmatrix.train.lr1 = table(list(predicted=Ypred.train.lr1,observed=dataset.train1$Y))\n",
    "colnames(confmatrix.train.lr1)=c(\"No\",\"Yes\")\n",
    "rownames(confmatrix.train.lr1)=c(\"No\",\"Yes\")\n",
    "mean.trainaccuracy.lr1= sum(diag(confmatrix.train.lr1))/sum(confmatrix.train.lr1)   #Model Accuracy\n",
    "mean.trainerror.lr1=1-mean.trainaccuracy.lr1\n",
    "\n",
    "####Testing Error###\n",
    "\n",
    "confmatrix.test.lr1 = table(list(predicted=Ypred.test.lr1,observed=dataset.test1$Y))\n",
    "colnames(confmatrix.test.lr1)=c(\"No\",\"Yes\")\n",
    "rownames(confmatrix.test.lr1)=c(\"No\",\"Yes\")\n",
    "mean.testaccuracy.lr1= sum(diag(confmatrix.test.lr1))/sum(confmatrix.test.lr1)      #Model accuracy\n",
    "mean.testerror.lr1 = 1-mean.testaccuracy.lr1                                       \n",
    "\n",
    "####Sensitivity### \n",
    "\n",
    "sens.train.lda1=diag(confmatrix.train.lda1)[2]/colSums(confmatrix.train.lda1)[2]\n",
    "sens.test.lda1 = diag(confmatrix.test.lda1)[2]/colSums(confmatrix.test.lda1)[2]\n",
    "sens.train.lr1 = diag(confmatrix.train.lr1)[2]/colSums(confmatrix.train.lr1)[2]\n",
    "sens.test.lr1 = diag(confmatrix.test.lr1)[2]/colSums(confmatrix.test.lr1)[2]\n",
    "\n",
    "####Specificity###\n",
    "\n",
    "spec.train.lda1=diag(confmatrix.train.lda1)[1]/colSums(confmatrix.train.lda1)[1]\n",
    "spec.test.lda1 = diag(confmatrix.test.lda1)[1]/colSums(confmatrix.test.lda1)[1]\n",
    "spec.train.lr1 = diag(confmatrix.train.lr1)[1]/colSums(confmatrix.train.lr1)[1]\n",
    "spec.test.lr1 = diag(confmatrix.test.lr1)[1]/colSums(confmatrix.test.lr1)[1]\n",
    "\n",
    "####ROC and AUC###\n",
    "\n",
    "pr.train.lda1 = prediction(Ypred.train.lda1$posterior[,2],dataset.train1$Y) \n",
    "ROC.train.lda1 = performance(pr.train.lda1,measure=\"tpr\",x.measure = \"fpr\")\n",
    "auc.train.lda1 = performance(pr.train.lda1,measure=\"auc\")\n",
    "auc.train.lda1 = auc.train.lda1@y.values[[1]]\n",
    "\n",
    "pr.test.lda1 = prediction(Ypred.test.lda1$posterior[,2],dataset.test1$Y) \n",
    "ROC.test.lda1 = performance(pr.test.lda1,measure=\"tpr\",x.measure = \"fpr\")\n",
    "auc.test.lda1 = performance(pr.test.lda1,measure=\"auc\")\n",
    "auc.test.lda1 = auc.test.lda1@y.values[[1]]\n",
    "\n",
    "pr.train.lr1 = prediction(Ypred.train.lr1,dataset.train1$Y) \n",
    "ROC.train.lr1 = performance(pr.train.lr1,measure=\"tpr\",x.measure = \"fpr\")\n",
    "auc.train.lr1 = performance(pr.train.lr1,measure=\"auc\")\n",
    "auc.train.lr1 = auc.train.lr1@y.values[[1]]\n",
    "\n",
    "pr.test.lr1 = prediction(Ypred.test.lr1,dataset.test1$Y) \n",
    "ROC.test.lr1 = performance(pr.test.lr1,measure=\"tpr\",x.measure = \"fpr\")\n",
    "auc.test.lr1 = performance(pr.test.lr1,measure=\"auc\")\n",
    "auc.test.lr1 = auc.test.lr1@y.values[[1]]\n",
    "\n",
    "####Evaluation Summary###\n",
    "\n",
    "Evaluation.table1 = rbind(c(mean.trainerror.lda1,mean.trainaccuracy.lda1,sens.train.lda1,spec.train.lda1,auc.train.lda1),\n",
    "                          c(mean.trainerror.lr1,mean.trainaccuracy.lr1,sens.train.lr1,spec.train.lr1,auc.train.lr1),\n",
    "                          c(mean.testerror.lda1,mean.testaccuracy.lda1,sens.test.lda1,spec.test.lda1,auc.test.lda1),\n",
    "                          c(mean.testerror.lr1,mean.testaccuracy.lr1,sens.test.lr1,spec.test.lr1,auc.test.lr1))\n",
    "colnames(Evaluation.table1) = c(\"Total Error Rate\",\"Accuracy Rate\",\"Sensitivity Rate\",\"Specificity Rate\",\"Area Under the Curve\")\n",
    "rownames(Evaluation.table1) = c(\"Train LDA\",\"Train LR\",\"Test LDA\",\"Test LR\")\n",
    "head(\"Evaluation.table1\")\n",
    "Evaluation.table1\n"
   ]
  },
  {
   "cell_type": "code",
   "execution_count": 17,
   "id": "fc5b13a3",
   "metadata": {},
   "outputs": [
    {
     "data": {
      "text/html": [
       "'Evaluation.table'"
      ],
      "text/latex": [
       "'Evaluation.table'"
      ],
      "text/markdown": [
       "'Evaluation.table'"
      ],
      "text/plain": [
       "[1] \"Evaluation.table\""
      ]
     },
     "metadata": {},
     "output_type": "display_data"
    },
    {
     "data": {
      "text/html": [
       "<table>\n",
       "<thead><tr><th></th><th scope=col>Total Error Rate</th><th scope=col>Accuracy Rate</th><th scope=col>Sensitivity Rate</th><th scope=col>Specificity Rate</th><th scope=col>Area Under the Curve</th></tr></thead>\n",
       "<tbody>\n",
       "\t<tr><th scope=row>Train LDA</th><td>0.05  </td><td>0.95  </td><td>0.96  </td><td>0.94  </td><td>0.9880</td></tr>\n",
       "\t<tr><th scope=row>Train LR</th><td>0.06  </td><td>0.94  </td><td>0.94  </td><td>0.94  </td><td>0.9400</td></tr>\n",
       "\t<tr><th scope=row>Test LDA</th><td>0.12  </td><td>0.88  </td><td>0.86  </td><td>0.90  </td><td>0.9248</td></tr>\n",
       "\t<tr><th scope=row>Test LR</th><td>0.13  </td><td>0.87  </td><td>0.86  </td><td>0.88  </td><td>0.8700</td></tr>\n",
       "</tbody>\n",
       "</table>\n"
      ],
      "text/latex": [
       "\\begin{tabular}{r|lllll}\n",
       "  & Total Error Rate & Accuracy Rate & Sensitivity Rate & Specificity Rate & Area Under the Curve\\\\\n",
       "\\hline\n",
       "\tTrain LDA & 0.05   & 0.95   & 0.96   & 0.94   & 0.9880\\\\\n",
       "\tTrain LR & 0.06   & 0.94   & 0.94   & 0.94   & 0.9400\\\\\n",
       "\tTest LDA & 0.12   & 0.88   & 0.86   & 0.90   & 0.9248\\\\\n",
       "\tTest LR & 0.13   & 0.87   & 0.86   & 0.88   & 0.8700\\\\\n",
       "\\end{tabular}\n"
      ],
      "text/markdown": [
       "\n",
       "| <!--/--> | Total Error Rate | Accuracy Rate | Sensitivity Rate | Specificity Rate | Area Under the Curve |\n",
       "|---|---|---|---|---|---|\n",
       "| Train LDA | 0.05   | 0.95   | 0.96   | 0.94   | 0.9880 |\n",
       "| Train LR | 0.06   | 0.94   | 0.94   | 0.94   | 0.9400 |\n",
       "| Test LDA | 0.12   | 0.88   | 0.86   | 0.90   | 0.9248 |\n",
       "| Test LR | 0.13   | 0.87   | 0.86   | 0.88   | 0.8700 |\n",
       "\n"
      ],
      "text/plain": [
       "          Total Error Rate Accuracy Rate Sensitivity Rate Specificity Rate\n",
       "Train LDA 0.05             0.95          0.96             0.94            \n",
       "Train LR  0.06             0.94          0.94             0.94            \n",
       "Test LDA  0.12             0.88          0.86             0.90            \n",
       "Test LR   0.13             0.87          0.86             0.88            \n",
       "          Area Under the Curve\n",
       "Train LDA 0.9880              \n",
       "Train LR  0.9400              \n",
       "Test LDA  0.9248              \n",
       "Test LR   0.8700              "
      ]
     },
     "metadata": {},
     "output_type": "display_data"
    }
   ],
   "source": [
    "head(\"Evaluation.table\")\n",
    "Evaluation.table"
   ]
  },
  {
   "cell_type": "code",
   "execution_count": 18,
   "id": "fc9a7989",
   "metadata": {},
   "outputs": [
    {
     "data": {
      "text/html": [
       "'Confusion Matrix_Train_LDA1'"
      ],
      "text/latex": [
       "'Confusion Matrix\\_Train\\_LDA1'"
      ],
      "text/markdown": [
       "'Confusion Matrix_Train_LDA1'"
      ],
      "text/plain": [
       "[1] \"Confusion Matrix_Train_LDA1\""
      ]
     },
     "metadata": {},
     "output_type": "display_data"
    },
    {
     "data": {
      "text/plain": [
       "         observed\n",
       "predicted  No Yes\n",
       "      No  358  59\n",
       "      Yes  42 341"
      ]
     },
     "metadata": {},
     "output_type": "display_data"
    },
    {
     "data": {
      "text/html": [
       "'Confusion Matrix_Train_LR1'"
      ],
      "text/latex": [
       "'Confusion Matrix\\_Train\\_LR1'"
      ],
      "text/markdown": [
       "'Confusion Matrix_Train_LR1'"
      ],
      "text/plain": [
       "[1] \"Confusion Matrix_Train_LR1\""
      ]
     },
     "metadata": {},
     "output_type": "display_data"
    },
    {
     "data": {
      "text/plain": [
       "         observed\n",
       "predicted  No Yes\n",
       "      No  356  55\n",
       "      Yes  44 345"
      ]
     },
     "metadata": {},
     "output_type": "display_data"
    },
    {
     "data": {
      "text/html": [
       "'Confusion Matrix_Test_LDA1'"
      ],
      "text/latex": [
       "'Confusion Matrix\\_Test\\_LDA1'"
      ],
      "text/markdown": [
       "'Confusion Matrix_Test_LDA1'"
      ],
      "text/plain": [
       "[1] \"Confusion Matrix_Test_LDA1\""
      ]
     },
     "metadata": {},
     "output_type": "display_data"
    },
    {
     "data": {
      "text/plain": [
       "         observed\n",
       "predicted  No Yes\n",
       "      No  344  51\n",
       "      Yes  56 349"
      ]
     },
     "metadata": {},
     "output_type": "display_data"
    },
    {
     "data": {
      "text/html": [
       "'Confusion Matrix_Test_LR1'"
      ],
      "text/latex": [
       "'Confusion Matrix\\_Test\\_LR1'"
      ],
      "text/markdown": [
       "'Confusion Matrix_Test_LR1'"
      ],
      "text/plain": [
       "[1] \"Confusion Matrix_Test_LR1\""
      ]
     },
     "metadata": {},
     "output_type": "display_data"
    },
    {
     "data": {
      "text/plain": [
       "         observed\n",
       "predicted  No Yes\n",
       "      No  341  46\n",
       "      Yes  59 354"
      ]
     },
     "metadata": {},
     "output_type": "display_data"
    }
   ],
   "source": [
    "head(\"Confusion Matrix_Train_LDA1\")\n",
    "confmatrix.train.lda1\n",
    "head(\"Confusion Matrix_Train_LR1\")\n",
    "confmatrix.train.lr1\n",
    "head(\"Confusion Matrix_Test_LDA1\")\n",
    "confmatrix.test.lda1\n",
    "head(\"Confusion Matrix_Test_LR1\")\n",
    "confmatrix.test.lr1"
   ]
  },
  {
   "cell_type": "code",
   "execution_count": 19,
   "id": "306ff270",
   "metadata": {},
   "outputs": [
    {
     "data": {
      "image/png": "[encoded data removed]",
      "text/plain": [
       "Plot with title \"ROC Curve_test_LR\""
      ]
     },
     "metadata": {},
     "output_type": "display_data"
    }
   ],
   "source": [
    "ROC1 = par(mfrow=c(2,2))\n",
    "plot(ROC.train.lda1,main=\"ROC Curve_train_LDA\",col='blue')\n",
    "abline(a=0,b=1)\n",
    "plot(ROC.test.lda1,main=\"ROC Curve_test_LDA\",col=\"Red\")\n",
    "abline(a=0,b=1)\n",
    "plot(ROC.train.lr1,main=\"ROC Curve_train_LR\",col='blue')\n",
    "abline(a=0,b=1)\n",
    "plot(ROC.test.lr1,main=\"ROC Curve_test_LR\",col=\"Red\")\n",
    "abline(a=0,b=1)"
   ]
  },
  {
   "cell_type": "code",
   "execution_count": null,
   "id": "93eb1bb5",
   "metadata": {},
   "outputs": [],
   "source": []
  },
  {
   "cell_type": "markdown",
   "id": "04d1c94a",
   "metadata": {},
   "source": [
    "### c) Design a simulation study where you illustrate the problem with reducing the total error vs. sensitivity and specificity by manipulating the relevant quantities in the initial simulation set-up."
   ]
  },
  {
   "cell_type": "code",
   "execution_count": 20,
   "id": "0fb79592",
   "metadata": {},
   "outputs": [
    {
     "data": {
      "text/html": [
       "'Evaluation.table.default'"
      ],
      "text/latex": [
       "'Evaluation.table.default'"
      ],
      "text/markdown": [
       "'Evaluation.table.default'"
      ],
      "text/plain": [
       "[1] \"Evaluation.table.default\""
      ]
     },
     "metadata": {},
     "output_type": "display_data"
    },
    {
     "data": {
      "text/html": [
       "<table>\n",
       "<thead><tr><th></th><th scope=col>Total Error Rate</th><th scope=col>Accuracy Rate</th><th scope=col>Sensitivity Rate</th><th scope=col>Specificity Rate</th></tr></thead>\n",
       "<tbody>\n",
       "\t<tr><th scope=row>Train LDA</th><td>0.05</td><td>0.95</td><td>0.96</td><td>0.94</td></tr>\n",
       "\t<tr><th scope=row>Test LDA</th><td>0.12</td><td>0.88</td><td>0.86</td><td>0.90</td></tr>\n",
       "</tbody>\n",
       "</table>\n"
      ],
      "text/latex": [
       "\\begin{tabular}{r|llll}\n",
       "  & Total Error Rate & Accuracy Rate & Sensitivity Rate & Specificity Rate\\\\\n",
       "\\hline\n",
       "\tTrain LDA & 0.05 & 0.95 & 0.96 & 0.94\\\\\n",
       "\tTest LDA & 0.12 & 0.88 & 0.86 & 0.90\\\\\n",
       "\\end{tabular}\n"
      ],
      "text/markdown": [
       "\n",
       "| <!--/--> | Total Error Rate | Accuracy Rate | Sensitivity Rate | Specificity Rate |\n",
       "|---|---|---|---|---|\n",
       "| Train LDA | 0.05 | 0.95 | 0.96 | 0.94 |\n",
       "| Test LDA | 0.12 | 0.88 | 0.86 | 0.90 |\n",
       "\n"
      ],
      "text/plain": [
       "          Total Error Rate Accuracy Rate Sensitivity Rate Specificity Rate\n",
       "Train LDA 0.05             0.95          0.96             0.94            \n",
       "Test LDA  0.12             0.88          0.86             0.90            "
      ]
     },
     "metadata": {},
     "output_type": "display_data"
    },
    {
     "data": {
      "text/html": [
       "'Evaluation.table.adj'"
      ],
      "text/latex": [
       "'Evaluation.table.adj'"
      ],
      "text/markdown": [
       "'Evaluation.table.adj'"
      ],
      "text/plain": [
       "[1] \"Evaluation.table.adj\""
      ]
     },
     "metadata": {},
     "output_type": "display_data"
    },
    {
     "data": {
      "text/html": [
       "<table>\n",
       "<thead><tr><th></th><th scope=col>Total Error Rate</th><th scope=col>Accuracy Rate</th><th scope=col>Sensitivity Rate</th><th scope=col>Specificity Rate</th></tr></thead>\n",
       "<tbody>\n",
       "\t<tr><th scope=row>Train LDA</th><td>0.08</td><td>0.92</td><td>0.98</td><td>0.86</td></tr>\n",
       "\t<tr><th scope=row>Test LDA</th><td>0.21</td><td>0.79</td><td>0.90</td><td>0.68</td></tr>\n",
       "</tbody>\n",
       "</table>\n"
      ],
      "text/latex": [
       "\\begin{tabular}{r|llll}\n",
       "  & Total Error Rate & Accuracy Rate & Sensitivity Rate & Specificity Rate\\\\\n",
       "\\hline\n",
       "\tTrain LDA & 0.08 & 0.92 & 0.98 & 0.86\\\\\n",
       "\tTest LDA & 0.21 & 0.79 & 0.90 & 0.68\\\\\n",
       "\\end{tabular}\n"
      ],
      "text/markdown": [
       "\n",
       "| <!--/--> | Total Error Rate | Accuracy Rate | Sensitivity Rate | Specificity Rate |\n",
       "|---|---|---|---|---|\n",
       "| Train LDA | 0.08 | 0.92 | 0.98 | 0.86 |\n",
       "| Test LDA | 0.21 | 0.79 | 0.90 | 0.68 |\n",
       "\n"
      ],
      "text/plain": [
       "          Total Error Rate Accuracy Rate Sensitivity Rate Specificity Rate\n",
       "Train LDA 0.08             0.92          0.98             0.86            \n",
       "Test LDA  0.21             0.79          0.90             0.68            "
      ]
     },
     "metadata": {},
     "output_type": "display_data"
    }
   ],
   "source": [
    "####Adjust the threshold level###\n",
    "\n",
    "train.lda.adj = ifelse(Ypred.train.lda$posterior[,2]>0.2,1,0)\n",
    "test.lda.adj = ifelse(Ypred.test.lda$posterior[,2]>0.2,1,0)\n",
    "\n",
    "###Training Error###\n",
    "\n",
    "confmatrix.train.lda.adj = table(list(predicted=train.lda.adj,observed=dataset.train$Y))\n",
    "colnames(confmatrix.train.lda.adj)=c(\"No\",\"Yes\")\n",
    "rownames(confmatrix.train.lda.adj)=c(\"No\",\"Yes\")\n",
    "mean.trainaccuracy.lda.adj=sum(diag(confmatrix.train.lda.adj))/sum(confmatrix.train.lda.adj) #Model Accuracy\n",
    "mean.trainerror.lda.adj = 1- mean.trainaccuracy.lda.adj\n",
    "\n",
    "###Testing Error###\n",
    "\n",
    "confmatrix.test.lda.adj = table(list(predicted=test.lda.adj,observed=dataset.test$Y))\n",
    "colnames(confmatrix.test.lda.adj)=c(\"No\",\"Yes\")\n",
    "rownames(confmatrix.test.lda.adj)=c(\"No\",\"Yes\")\n",
    "mean.testaccuracy.lda.adj=sum(diag(confmatrix.test.lda.adj))/sum(confmatrix.test.lda.adj)    #Model Accuracy\n",
    "mean.testerror.lda.adj = 1-mean.testaccuracy.lda.adj\n",
    "\n",
    "####Sensitivity ###\n",
    "\n",
    "sens.train.lda.adj=diag(confmatrix.train.lda.adj)[2]/colSums(confmatrix.train.lda.adj)[2]\n",
    "sens.test.lda.adj = diag(confmatrix.test.lda.adj)[2]/colSums(confmatrix.test.lda.adj)[2]\n",
    "\n",
    "###Specificity###\n",
    "\n",
    "spec.train.lda.adj=diag(confmatrix.train.lda.adj)[1]/colSums(confmatrix.train.lda.adj)[1]\n",
    "spec.test.lda.adj = diag(confmatrix.test.lda.adj)[1]/colSums(confmatrix.test.lda.adj)[1]\n",
    "\n",
    "###Evaluation Summary###\n",
    "\n",
    "Evaluation.table.default = rbind(c(mean.trainerror.lda,mean.trainaccuracy.lda,sens.train.lda,spec.train.lda),\n",
    "                                 c(mean.testerror.lda,mean.testaccuracy.lda,sens.test.lda,spec.test.lda))\n",
    "colnames(Evaluation.table.default) = c(\"Total Error Rate\",\"Accuracy Rate\",\"Sensitivity Rate\",\"Specificity Rate\")\n",
    "rownames(Evaluation.table.default) = c(\"Train LDA\",\"Test LDA\")\n",
    "head(\"Evaluation.table.default\") \n",
    "Evaluation.table.default\n",
    "\n",
    "Evaluation.table.adj = rbind(c(mean.trainerror.lda.adj,mean.trainaccuracy.lda.adj,sens.train.lda.adj,spec.train.lda.adj),\n",
    "                             c(mean.testerror.lda.adj,mean.testaccuracy.lda.adj,sens.test.lda.adj,spec.test.lda.adj))\n",
    "colnames(Evaluation.table.adj) = c(\"Total Error Rate\",\"Accuracy Rate\",\"Sensitivity Rate\",\"Specificity Rate\")\n",
    "rownames(Evaluation.table.adj) = c(\"Train LDA\",\"Test LDA\")\n",
    "head(\"Evaluation.table.adj\")\n",
    "Evaluation.table.adj"
   ]
  },
  {
   "cell_type": "code",
   "execution_count": 21,
   "id": "cc33e145",
   "metadata": {},
   "outputs": [
    {
     "data": {
      "text/html": [
       "'Confusion Matrix_Train_LDA'"
      ],
      "text/latex": [
       "'Confusion Matrix\\_Train\\_LDA'"
      ],
      "text/markdown": [
       "'Confusion Matrix_Train_LDA'"
      ],
      "text/plain": [
       "[1] \"Confusion Matrix_Train_LDA\""
      ]
     },
     "metadata": {},
     "output_type": "display_data"
    },
    {
     "data": {
      "text/plain": [
       "         observed\n",
       "predicted No Yes\n",
       "      No  47   2\n",
       "      Yes  3  48"
      ]
     },
     "metadata": {},
     "output_type": "display_data"
    },
    {
     "data": {
      "text/html": [
       "'Confusion Matrix_Test_LDA'"
      ],
      "text/latex": [
       "'Confusion Matrix\\_Test\\_LDA'"
      ],
      "text/markdown": [
       "'Confusion Matrix_Test_LDA'"
      ],
      "text/plain": [
       "[1] \"Confusion Matrix_Test_LDA\""
      ]
     },
     "metadata": {},
     "output_type": "display_data"
    },
    {
     "data": {
      "text/plain": [
       "         observed\n",
       "predicted No Yes\n",
       "      No  45   7\n",
       "      Yes  5  43"
      ]
     },
     "metadata": {},
     "output_type": "display_data"
    },
    {
     "data": {
      "text/html": [
       "'Confusion Matrix_Train_LDA_adjusted'"
      ],
      "text/latex": [
       "'Confusion Matrix\\_Train\\_LDA\\_adjusted'"
      ],
      "text/markdown": [
       "'Confusion Matrix_Train_LDA_adjusted'"
      ],
      "text/plain": [
       "[1] \"Confusion Matrix_Train_LDA_adjusted\""
      ]
     },
     "metadata": {},
     "output_type": "display_data"
    },
    {
     "data": {
      "text/plain": [
       "         observed\n",
       "predicted No Yes\n",
       "      No  43   1\n",
       "      Yes  7  49"
      ]
     },
     "metadata": {},
     "output_type": "display_data"
    },
    {
     "data": {
      "text/html": [
       "'Confusion Matrix_Test_LDA_adjusted'"
      ],
      "text/latex": [
       "'Confusion Matrix\\_Test\\_LDA\\_adjusted'"
      ],
      "text/markdown": [
       "'Confusion Matrix_Test_LDA_adjusted'"
      ],
      "text/plain": [
       "[1] \"Confusion Matrix_Test_LDA_adjusted\""
      ]
     },
     "metadata": {},
     "output_type": "display_data"
    },
    {
     "data": {
      "text/plain": [
       "         observed\n",
       "predicted No Yes\n",
       "      No  34   5\n",
       "      Yes 16  45"
      ]
     },
     "metadata": {},
     "output_type": "display_data"
    }
   ],
   "source": [
    "head(\"Confusion Matrix_Train_LDA\")\n",
    "confmatrix.train.lda\n",
    "head(\"Confusion Matrix_Test_LDA\")\n",
    "confmatrix.test.lda\n",
    "\n",
    "head(\"Confusion Matrix_Train_LDA_adjusted\")\n",
    "confmatrix.train.lda.adj\n",
    "head(\"Confusion Matrix_Test_LDA_adjusted\")\n",
    "confmatrix.test.lda.adj"
   ]
  }
 ],
 "metadata": {
  "kernelspec": {
   "display_name": "R",
   "language": "R",
   "name": "ir"
  },
  "language_info": {
   "codemirror_mode": "r",
   "file_extension": ".r",
   "mimetype": "text/x-r-source",
   "name": "R",
   "pygments_lexer": "r",
   "version": "3.6.1"
  }
 },
 "nbformat": 4,
 "nbformat_minor": 5
}
