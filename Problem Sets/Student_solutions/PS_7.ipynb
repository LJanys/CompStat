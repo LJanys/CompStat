{
 "cells": [
  {
   "cell_type": "markdown",
   "metadata": {},
   "source": [
    "# Problem set 7 (Alonzo, Arias, Ducco)"
   ]
  },
  {
   "cell_type": "markdown",
   "metadata": {},
   "source": [
    "We start by generating our data through a non linear data-generating process.\n",
    "\n",
    "$$ Y_i = \\beta_1^{X1_{i}} + \\beta_2^{X2_i} + e_i $$\n"
   ]
  },
  {
   "cell_type": "code",
   "execution_count": 2,
   "metadata": {},
   "outputs": [
    {
     "name": "stdout",
     "output_type": "stream",
     "text": [
      "package 'rpart' successfully unpacked and MD5 sums checked\n",
      "\n",
      "The downloaded binary packages are in\n",
      "\tC:\\Users\\Asus\\AppData\\Local\\Temp\\RtmpwFYgr9\\downloaded_packages\n",
      "package 'rpart.plot' successfully unpacked and MD5 sums checked\n",
      "\n",
      "The downloaded binary packages are in\n",
      "\tC:\\Users\\Asus\\AppData\\Local\\Temp\\RtmpwFYgr9\\downloaded_packages\n",
      "package 'ggplot2' successfully unpacked and MD5 sums checked\n",
      "\n",
      "The downloaded binary packages are in\n",
      "\tC:\\Users\\Asus\\AppData\\Local\\Temp\\RtmpwFYgr9\\downloaded_packages\n"
     ]
    },
    {
     "name": "stderr",
     "output_type": "stream",
     "text": [
      "Warning message:\n",
      "\"Paket 'rpart' wurde unter R Version 4.1.3 erstellt\"\n",
      "Warning message:\n",
      "\"Paket 'rpart.plot' wurde unter R Version 4.1.3 erstellt\"\n",
      "Warning message:\n",
      "\"Paket 'ggplot2' wurde unter R Version 4.1.3 erstellt\"\n"
     ]
    }
   ],
   "source": [
    "suppressMessages(install.packages(\"rpart\"))\n",
    "suppressMessages(install.packages(\"rpart.plot\"))\n",
    "suppressMessages(install.packages(\"ggplot2\"))\n",
    "\n",
    "\n",
    "\n",
    "suppressMessages(library(\"rpart\"))\n",
    "suppressMessages(library(\"rpart.plot\"))\n",
    "suppressMessages(library(\"ggplot2\"))\n",
    "\n",
    "\n",
    "\n",
    "set.seed(666) #we set a seed so that we could double check our codes\n",
    "\n",
    "n<-100\n",
    "mean_x<-0\n",
    "sd_x<-4\n",
    "mean_e<-0\n",
    "sd_e<-1\n",
    "beta<-c(3,4)\n",
    "\n",
    "\n",
    "############################\n",
    "\n",
    "\n",
    "data_gen <- function(n,mean_x,sd_x,mean_e,sd_e,beta){\n",
    "  X_1<-rnorm(n,mean_x,sd_x)\n",
    "  X_2<-rnorm(n,mean_x,sd_x)\n",
    "  e<-rnorm(n,mean_e,sd_e)\n",
    "  y<- beta[1]^(X_1) + beta[2]^(X_2) + e\n",
    "  return(data.frame(X_1,X_2,y))\n",
    "}\n",
    "# We create a function to generate data\n",
    "\n",
    "\n",
    "\n",
    "\n"
   ]
  },
  {
   "cell_type": "markdown",
   "metadata": {},
   "source": [
    "### 1a Generate the data and fit a regression tree"
   ]
  },
  {
   "cell_type": "code",
   "execution_count": 5,
   "metadata": {},
   "outputs": [],
   "source": [
    "\n",
    "data<-data_gen(n,mean_x,sd_x,mean_e,sd_e,beta)\n",
    "\n",
    "tree<-rpart(formula=y ~ .,data=data)\n",
    "\n",
    "long_tree<-rpart(formula=y~ .,data=data, control=list(cp=0))\n",
    "\n"
   ]
  },
  {
   "cell_type": "markdown",
   "metadata": {},
   "source": [
    "$$ \\sum_{m = 1}^{|T|} \\sum_{x_i\\in R_m}(y_i - \\hat{y}_{R_m})^2 + \\alpha |T| $$"
   ]
  },
  {
   "cell_type": "code",
   "execution_count": 6,
   "metadata": {},
   "outputs": [
    {
     "data": {
      "image/png": "[encoded data removed]",
      "text/plain": [
       "plot without title"
      ]
     },
     "metadata": {
      "image/png": {
       "height": 420,
       "width": 420
      }
     },
     "output_type": "display_data"
    },
    {
     "data": {
      "image/png": "[encoded data removed]",
      "text/plain": [
       "plot without title"
      ]
     },
     "metadata": {
      "image/png": {
       "height": 420,
       "width": 420
      }
     },
     "output_type": "display_data"
    }
   ],
   "source": [
    "rpart.plot(tree)\n",
    "\n",
    "rpart.plot(long_tree)"
   ]
  },
  {
   "cell_type": "markdown",
   "metadata": {},
   "source": [
    "### 1b MSE of a linear regression model, full tree and pruned tree"
   ]
  },
  {
   "cell_type": "code",
   "execution_count": 7,
   "metadata": {},
   "outputs": [
    {
     "name": "stdout",
     "output_type": "stream",
     "text": [
      "[1] \"mean squared error of linear regression: \"\n"
     ]
    },
    {
     "data": {
      "text/html": [
       "19287044091.3474"
      ],
      "text/latex": [
       "19287044091.3474"
      ],
      "text/markdown": [
       "19287044091.3474"
      ],
      "text/plain": [
       "[1] 19287044091"
      ]
     },
     "metadata": {},
     "output_type": "display_data"
    },
    {
     "name": "stdout",
     "output_type": "stream",
     "text": [
      "[1] \"mean squared error of pruned tree\"\n"
     ]
    },
    {
     "data": {
      "text/html": [
       "19015487940.9478"
      ],
      "text/latex": [
       "19015487940.9478"
      ],
      "text/markdown": [
       "19015487940.9478"
      ],
      "text/plain": [
       "[1] 19015487941"
      ]
     },
     "metadata": {},
     "output_type": "display_data"
    },
    {
     "name": "stdout",
     "output_type": "stream",
     "text": [
      "[1] \"mean squared error of longest tree\"\n"
     ]
    },
    {
     "data": {
      "text/html": [
       "18212402845.9659"
      ],
      "text/latex": [
       "18212402845.9659"
      ],
      "text/markdown": [
       "18212402845.9659"
      ],
      "text/plain": [
       "[1] 18212402846"
      ]
     },
     "metadata": {},
     "output_type": "display_data"
    },
    {
     "data": {
      "image/png": "[encoded data removed]",
      "text/plain": [
       "plot without title"
      ]
     },
     "metadata": {
      "image/png": {
       "height": 420,
       "width": 420
      }
     },
     "output_type": "display_data"
    }
   ],
   "source": [
    "\n",
    "test_set<-data_gen(n,mean_x,sd_x,mean_e,sd_e,beta)\n",
    "\n",
    "\n",
    "lm_obj<-lm(y~ X_1 +X_2,data=data)\n",
    "\n",
    "\n",
    "mean_sqe<-function(test,model){\n",
    "  \n",
    "  \n",
    "  y_fit<-predict(model,test)\n",
    "  return(mean((test$y-y_fit)^2))\n",
    "  \n",
    "  }\n",
    "\n",
    "print(\"mean squared error of linear regression: \")\n",
    "mean_sqe(test_set,lm_obj)\n",
    "\n",
    "\n",
    "print(\"mean squared error of pruned tree\")\n",
    "\n",
    "mean_sqe(test_set,tree)\n",
    "\n",
    "print(\"mean squared error of longest tree\")\n",
    "\n",
    "mean_sqe(test_set,long_tree)\n",
    "\n",
    "sqes<- c(mean_sqe(test_set,lm_obj),mean_sqe(test_set,tree),mean_sqe(test_set,long_tree))\n",
    "\n",
    "names<-c(\"linear_regression\",'pruned_tree','full_tree')\n",
    "MSEE<-data.frame(names,sqes)\n",
    "p<-ggplot(data=MSEE, aes(x=names, y=sqes)) +\n",
    "  geom_bar(stat=\"identity\")\n",
    "p\n",
    "\n"
   ]
  },
  {
   "cell_type": "markdown",
   "metadata": {},
   "source": [
    "### 2a A dgp well suited for regression trees"
   ]
  },
  {
   "cell_type": "markdown",
   "metadata": {},
   "source": [
    "$$\n",
    "    y_i= \n",
    "\\begin{cases}\n",
    "    100 \\beta_2 + e_i,  & \\text{if } X_{1i} < 1 \\\\\n",
    "    -100 \\beta_1 + e_i,& \\text{if } X_{1i} \\geq 1\n",
    "\\end{cases}\n",
    "$$"
   ]
  },
  {
   "cell_type": "code",
   "execution_count": 8,
   "metadata": {},
   "outputs": [
    {
     "name": "stdout",
     "output_type": "stream",
     "text": [
      "[1] \"means\"\n"
     ]
    },
    {
     "data": {
      "text/html": [
       "<style>\n",
       ".list-inline {list-style: none; margin:0; padding: 0}\n",
       ".list-inline>li {display: inline-block}\n",
       ".list-inline>li:not(:last-child)::after {content: \"\\00b7\"; padding: 0 .5ex}\n",
       "</style>\n",
       "<ol class=list-inline><li>45473.3407589949</li><li>2890.45905448619</li><li>2891.08066312732</li></ol>\n"
      ],
      "text/latex": [
       "\\begin{enumerate*}\n",
       "\\item 45473.3407589949\n",
       "\\item 2890.45905448619\n",
       "\\item 2891.08066312732\n",
       "\\end{enumerate*}\n"
      ],
      "text/markdown": [
       "1. 45473.3407589949\n",
       "2. 2890.45905448619\n",
       "3. 2891.08066312732\n",
       "\n",
       "\n"
      ],
      "text/plain": [
       "[1] 45473.341  2890.459  2891.081"
      ]
     },
     "metadata": {},
     "output_type": "display_data"
    },
    {
     "name": "stdout",
     "output_type": "stream",
     "text": [
      "[1] \"standard errors\"\n"
     ]
    },
    {
     "data": {
      "text/html": [
       "<style>\n",
       ".list-inline {list-style: none; margin:0; padding: 0}\n",
       ".list-inline>li {display: inline-block}\n",
       ".list-inline>li:not(:last-child)::after {content: \"\\00b7\"; padding: 0 .5ex}\n",
       "</style>\n",
       "<ol class=list-inline><li>5272.0306769617</li><li>4828.24972184423</li><li>4830.54727173455</li></ol>\n"
      ],
      "text/latex": [
       "\\begin{enumerate*}\n",
       "\\item 5272.0306769617\n",
       "\\item 4828.24972184423\n",
       "\\item 4830.54727173455\n",
       "\\end{enumerate*}\n"
      ],
      "text/markdown": [
       "1. 5272.0306769617\n",
       "2. 4828.24972184423\n",
       "3. 4830.54727173455\n",
       "\n",
       "\n"
      ],
      "text/plain": [
       "[1] 5272.031 4828.250 4830.547"
      ]
     },
     "metadata": {},
     "output_type": "display_data"
    },
    {
     "data": {
      "image/png": "[encoded data removed]",
      "text/plain": [
       "plot without title"
      ]
     },
     "metadata": {
      "image/png": {
       "height": 420,
       "width": 420
      }
     },
     "output_type": "display_data"
    }
   ],
   "source": [
    "data_gen_tree<-function(n,mean_x,sd_x,mean_e,sd_e,beta){\n",
    "  X_1<-rnorm(n,mean_x,sd_x)\n",
    "  X_2<-rnorm(n,mean_x,sd_x)\n",
    "  e<-rnorm(n,mean_e,sd_e)\n",
    "  y<- -100*beta[1]*(X_1>=1) +100*beta[2]*(X_1<1) + e\n",
    "  return(data.frame(X_1,X_2,y))\n",
    "}\n",
    "\n",
    "scores_a<-matrix(NA,3,100)\n",
    "\n",
    "for (i in 1:100){\n",
    "\n",
    "\n",
    "train<-data_gen_tree(n,mean_x,sd_x,mean_e,sd_e,beta)\n",
    "\n",
    "\n",
    "test<-data_gen_tree(n,mean_x,sd_x,mean_e,sd_e,beta)\n",
    "\n",
    "\n",
    "lm_obj<-lm(y~X_1 + X_2,train)\n",
    "\n",
    "\n",
    "pruned_tree<-rpart(y~.,train,method='anova')\n",
    "\n",
    "\n",
    "long_tree<-rpart(y~.,train,method='anova',control=list(cp=0))\n",
    "\n",
    "scores_a[,i]<-c(mean_sqe(test,lm_obj),mean_sqe(test,pruned_tree),mean_sqe(test,long_tree))\n",
    "}\n",
    "\n",
    "print(\"means\")\n",
    "rowMeans(scores_a)\n",
    "print(\"standard errors\")\n",
    "sqrt(diag(cov(t(scores_a))))\n",
    "\n",
    "boxplot(t(scores_a))"
   ]
  },
  {
   "cell_type": "markdown",
   "metadata": {},
   "source": [
    "### 2b A dgp well suited for the linear regression model"
   ]
  },
  {
   "cell_type": "markdown",
   "metadata": {},
   "source": [
    "$$ y_i =  \\beta_1 X_{1i} +  \\beta_2 X_{2i} + e_i$$"
   ]
  },
  {
   "cell_type": "code",
   "execution_count": 9,
   "metadata": {},
   "outputs": [
    {
     "name": "stdout",
     "output_type": "stream",
     "text": [
      "[1] \"means\"\n"
     ]
    },
    {
     "data": {
      "text/html": [
       "<style>\n",
       ".list-inline {list-style: none; margin:0; padding: 0}\n",
       ".list-inline>li {display: inline-block}\n",
       ".list-inline>li:not(:last-child)::after {content: \"\\00b7\"; padding: 0 .5ex}\n",
       "</style>\n",
       "<ol class=list-inline><li>1.02207377321195</li><li>103.50932853369</li><li>101.482139528496</li></ol>\n"
      ],
      "text/latex": [
       "\\begin{enumerate*}\n",
       "\\item 1.02207377321195\n",
       "\\item 103.50932853369\n",
       "\\item 101.482139528496\n",
       "\\end{enumerate*}\n"
      ],
      "text/markdown": [
       "1. 1.02207377321195\n",
       "2. 103.50932853369\n",
       "3. 101.482139528496\n",
       "\n",
       "\n"
      ],
      "text/plain": [
       "[1]   1.022074 103.509329 101.482140"
      ]
     },
     "metadata": {},
     "output_type": "display_data"
    },
    {
     "name": "stdout",
     "output_type": "stream",
     "text": [
      "[1] \"standard deviation\"\n"
     ]
    },
    {
     "data": {
      "text/html": [
       "<style>\n",
       ".list-inline {list-style: none; margin:0; padding: 0}\n",
       ".list-inline>li {display: inline-block}\n",
       ".list-inline>li:not(:last-child)::after {content: \"\\00b7\"; padding: 0 .5ex}\n",
       "</style>\n",
       "<ol class=list-inline><li>0.155004612384616</li><li>17.8988697998992</li><li>18.1280158929947</li></ol>\n"
      ],
      "text/latex": [
       "\\begin{enumerate*}\n",
       "\\item 0.155004612384616\n",
       "\\item 17.8988697998992\n",
       "\\item 18.1280158929947\n",
       "\\end{enumerate*}\n"
      ],
      "text/markdown": [
       "1. 0.155004612384616\n",
       "2. 17.8988697998992\n",
       "3. 18.1280158929947\n",
       "\n",
       "\n"
      ],
      "text/plain": [
       "[1]  0.1550046 17.8988698 18.1280159"
      ]
     },
     "metadata": {},
     "output_type": "display_data"
    },
    {
     "data": {
      "image/png": "[encoded data removed]",
      "text/plain": [
       "plot without title"
      ]
     },
     "metadata": {
      "image/png": {
       "height": 420,
       "width": 420
      }
     },
     "output_type": "display_data"
    }
   ],
   "source": [
    "\n",
    "data_gen_lin<-function(n,mean_x,sd_x,mean_e,sd_e,beta){\n",
    "  X_1<-rnorm(n,mean_x,sd_x)\n",
    "  X_2<-rnorm(n,mean_x,sd_x)\n",
    "  e<-rnorm(n,mean_e,sd_e)\n",
    "  y<- beta[1]*X_1 + beta[2]*X_2 + e\n",
    "  return(data.frame(X_1,X_2,y))\n",
    "}\n",
    "\n",
    "scores_b<-matrix(NA,3,100)\n",
    "\n",
    "for (i in 1:100){\n",
    "\n",
    "train<-data_gen_lin(n,mean_x,sd_x,mean_e,sd_e,beta)\n",
    "\n",
    "\n",
    "test<-data_gen_lin(n,mean_x,sd_x,mean_e,sd_e,beta)\n",
    "\n",
    "\n",
    "lm_obj<-lm(y~X_1 + X_2,train)\n",
    "\n",
    "\n",
    "pruned_tree<-rpart(y~.,method='anova',train)\n",
    "\n",
    "\n",
    "long_tree<-rpart(y~.,train,method='anova',control=list(cp=0))\n",
    "\n",
    "scores_b[,i]<-c(mean_sqe(test,lm_obj),mean_sqe(test,pruned_tree),mean_sqe(test,long_tree))\n",
    "}\n",
    "\n",
    "print(\"means\")\n",
    "rowMeans(scores_b)\n",
    "print(\"standard deviation\")\n",
    "sqrt(diag(cov(t(scores_b))))\n",
    "\n",
    "boxplot(t(scores_b))\n"
   ]
  },
  {
   "cell_type": "markdown",
   "metadata": {},
   "source": [
    "### 2c How does pruning reduce the variance?"
   ]
  },
  {
   "cell_type": "code",
   "execution_count": 10,
   "metadata": {},
   "outputs": [
    {
     "data": {
      "text/html": [
       "<table class=\"dataframe\">\n",
       "<caption>A matrix: 8 × 2 of type dbl</caption>\n",
       "<thead>\n",
       "\t<tr><th></th><th scope=col>CP</th><th scope=col>nsplit</th></tr>\n",
       "</thead>\n",
       "<tbody>\n",
       "\t<tr><th scope=row>1</th><td>0.49734837</td><td>0</td></tr>\n",
       "\t<tr><th scope=row>2</th><td>0.12544623</td><td>1</td></tr>\n",
       "\t<tr><th scope=row>3</th><td>0.07433074</td><td>2</td></tr>\n",
       "\t<tr><th scope=row>4</th><td>0.07058589</td><td>3</td></tr>\n",
       "\t<tr><th scope=row>5</th><td>0.02632816</td><td>4</td></tr>\n",
       "\t<tr><th scope=row>6</th><td>0.01782104</td><td>5</td></tr>\n",
       "\t<tr><th scope=row>7</th><td>0.01732870</td><td>6</td></tr>\n",
       "\t<tr><th scope=row>8</th><td>0.00000000</td><td>7</td></tr>\n",
       "</tbody>\n",
       "</table>\n"
      ],
      "text/latex": [
       "A matrix: 8 × 2 of type dbl\n",
       "\\begin{tabular}{r|ll}\n",
       "  & CP & nsplit\\\\\n",
       "\\hline\n",
       "\t1 & 0.49734837 & 0\\\\\n",
       "\t2 & 0.12544623 & 1\\\\\n",
       "\t3 & 0.07433074 & 2\\\\\n",
       "\t4 & 0.07058589 & 3\\\\\n",
       "\t5 & 0.02632816 & 4\\\\\n",
       "\t6 & 0.01782104 & 5\\\\\n",
       "\t7 & 0.01732870 & 6\\\\\n",
       "\t8 & 0.00000000 & 7\\\\\n",
       "\\end{tabular}\n"
      ],
      "text/markdown": [
       "\n",
       "A matrix: 8 × 2 of type dbl\n",
       "\n",
       "| <!--/--> | CP | nsplit |\n",
       "|---|---|---|\n",
       "| 1 | 0.49734837 | 0 |\n",
       "| 2 | 0.12544623 | 1 |\n",
       "| 3 | 0.07433074 | 2 |\n",
       "| 4 | 0.07058589 | 3 |\n",
       "| 5 | 0.02632816 | 4 |\n",
       "| 6 | 0.01782104 | 5 |\n",
       "| 7 | 0.01732870 | 6 |\n",
       "| 8 | 0.00000000 | 7 |\n",
       "\n"
      ],
      "text/plain": [
       "  CP         nsplit\n",
       "1 0.49734837 0     \n",
       "2 0.12544623 1     \n",
       "3 0.07433074 2     \n",
       "4 0.07058589 3     \n",
       "5 0.02632816 4     \n",
       "6 0.01782104 5     \n",
       "7 0.01732870 6     \n",
       "8 0.00000000 7     "
      ]
     },
     "metadata": {},
     "output_type": "display_data"
    },
    {
     "data": {
      "image/png": "[encoded data removed]",
      "text/plain": [
       "plot without title"
      ]
     },
     "metadata": {
      "image/png": {
       "height": 420,
       "width": 420
      }
     },
     "output_type": "display_data"
    },
    {
     "data": {
      "image/png": "[encoded data removed]",
      "text/plain": [
       "plot without title"
      ]
     },
     "metadata": {
      "image/png": {
       "height": 420,
       "width": 420
      }
     },
     "output_type": "display_data"
    },
    {
     "data": {
      "image/png": "[encoded data removed]",
      "text/plain": [
       "plot without title"
      ]
     },
     "metadata": {
      "image/png": {
       "height": 420,
       "width": 420
      }
     },
     "output_type": "display_data"
    }
   ],
   "source": [
    "long_tree$cptable[,1:2]\n",
    "\n",
    "cp_vals<-long_tree$cptable[,1]\n",
    "\n",
    "rpart.plot(rpart(y~.,train,method='anova',control=list(cp=cp_vals[2])))\n",
    "\n",
    "\n",
    "rpart.plot(rpart(y~.,train,method='anova',control=list(cp=cp_vals[4])))\n",
    "\n",
    "rpart.plot(rpart(y~.,train,method='anova',control=list(cp=cp_vals[6])))"
   ]
  },
  {
   "cell_type": "code",
   "execution_count": 11,
   "metadata": {
    "scrolled": false
   },
   "outputs": [
    {
     "data": {
      "image/png": "[encoded data removed]",
      "text/plain": [
       "plot without title"
      ]
     },
     "metadata": {
      "image/png": {
       "height": 420,
       "width": 420
      }
     },
     "output_type": "display_data"
    }
   ],
   "source": [
    "variances<-matrix(NA,10,100)\n",
    "\n",
    "for (j in 1:100){\n",
    "\n",
    "train<-data_gen(n,mean_x,sd_x,mean_e,sd_e,beta)\n",
    "test<-data_gen(n,mean_x,sd_x,mean_e,sd_e,beta)\n",
    "\n",
    "tree<-rpart(y~.,train,control=list(cp=0))\n",
    "\n",
    "cp_vals<-tree$cptable[,1]\n",
    "\n",
    "for (i in 1:10){\n",
    "  \n",
    "  \n",
    "  model=rpart(y~., data=data, method='anova', control=list(cp=cp_vals[i])) \n",
    "  variances[i,j]<-(sd(predict(model,test)))^2\n",
    "  \n",
    "}\n",
    "}\n",
    "vars<-rowMeans(variances)\n",
    "plot(vars[2:10])\n",
    "\n"
   ]
  },
  {
   "cell_type": "markdown",
   "metadata": {},
   "source": [
    "- We can see that the higher the amount of splits (i.e. the less pruned a tree is) the higher the variance.\n",
    "- This is because the more splits the higher the chance of overfitting."
   ]
  },
  {
   "cell_type": "markdown",
   "metadata": {},
   "source": [
    "Repeating Question 2b by putting more noise to the model as discussed at class"
   ]
  },
  {
   "cell_type": "code",
   "execution_count": 12,
   "metadata": {},
   "outputs": [
    {
     "data": {
      "image/png": "[encoded data removed]",
      "text/plain": [
       "plot without title"
      ]
     },
     "metadata": {
      "image/png": {
       "height": 420,
       "width": 420
      }
     },
     "output_type": "display_data"
    }
   ],
   "source": [
    "variances_new<-matrix(NA,10,100)\n",
    "\n",
    "sd_e_new <- 10000 # very big standard error as the numbers of the model are very high\n",
    "\n",
    "for (j in 1:100){\n",
    "  \n",
    "  train<-data_gen(n,mean_x,sd_x,mean_e,sd_e_new,beta)\n",
    "  test<-data_gen(n,mean_x,sd_x,mean_e,sd_e_new,beta)\n",
    "  \n",
    "  tree<-rpart(y~.,train,control=list(cp=0))\n",
    "  \n",
    "  cp_vals<-tree$cptable[,1]\n",
    "  \n",
    "  for (i in 1:10){\n",
    "    \n",
    "    \n",
    "    model=rpart(y~., data=data, method='anova', control=list(cp=cp_vals[i])) \n",
    "    variances_new[i,j]<-(sd(predict(model,test)))^2\n",
    "    \n",
    "  }\n",
    "}\n",
    "vars_new<-rowMeans(variances_new)\n",
    "plot(vars_new[2:10])"
   ]
  },
  {
   "cell_type": "markdown",
   "metadata": {},
   "source": [
    "It confirm our hypothesis that with more noise there is more benefits of pruning a tree"
   ]
  }
 ],
 "metadata": {
  "kernelspec": {
   "display_name": "R",
   "language": "R",
   "name": "ir"
  },
  "language_info": {
   "codemirror_mode": "r",
   "file_extension": ".r",
   "mimetype": "text/x-r-source",
   "name": "R",
   "pygments_lexer": "r",
   "version": "4.1.2"
  }
 },
 "nbformat": 4,
 "nbformat_minor": 4
}
